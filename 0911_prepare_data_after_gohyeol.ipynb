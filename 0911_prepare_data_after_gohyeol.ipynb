{
 "cells": [
  {
   "cell_type": "code",
   "execution_count": 1,
   "metadata": {},
   "outputs": [],
   "source": [
    "import pandas as pd\n",
    "import numpy as np"
   ]
  },
  {
   "cell_type": "code",
   "execution_count": 2,
   "metadata": {},
   "outputs": [],
   "source": [
    "def missing_check(df):\n",
    "    for col in df.columns:\n",
    "        print(col, (df[col]==66666).sum(), (df[col]==77777).sum(), (df[col]==99999).sum(), (df[col].isnull().sum()))"
   ]
  },
  {
   "cell_type": "markdown",
   "metadata": {},
   "source": [
    "1. basic feature에서 duration과 “onset”(기준1) 컬럼을 빼서 준비"
   ]
  },
  {
   "cell_type": "code",
   "execution_count": 4,
   "metadata": {},
   "outputs": [],
   "source": [
    "# basic = pd.read_csv(\"/home/user19/pnu_ckd/hexa_preprocessing_after95/data/shared_data/0911_HEXA_HJ 변수명 재정리_R_onlybasic_aftergohyeolcheck.csv\")\n",
    "basic = pd.read_excel(\"/home/user19/pnu_ckd/hexa_preprocessing_after95/0911_dl_models/data/0911_HEXA_HJ 변수명 재정리_HTN항목수정_R.xlsx\", sheet_name=0)"
   ]
  },
  {
   "cell_type": "code",
   "execution_count": 5,
   "metadata": {},
   "outputs": [],
   "source": [
    "# missing_check(basic)\n",
    "basic = basic[['RID', 'CT1_SEX', 'CT1_AGE', 'CT1_eGFR', 'imp_CT1_SBP', 'imp_CT1_BMI',\n",
    "       'CT1_HB', 'Imp_CT1_ALBUMIN', 'CT1_TCHL', 'imp_new_EDU',\n",
    "       'imp_new_INCOME', 'imp_new_DRINK', 'imp_new_SMOKE', 'new_CT1_gohyeol',\n",
    "       'CT1_dangnyo', 'CT1_simhyeol', 'onset', 'onset_tight']]"
   ]
  },
  {
   "cell_type": "code",
   "execution_count": 9,
   "metadata": {},
   "outputs": [
    {
     "name": "stdout",
     "output_type": "stream",
     "text": [
      "RID 0 0 0 0\n",
      "CT1_SEX 0 0 0 0\n",
      "CT1_AGE 0 0 0 0\n",
      "CT1_eGFR 0 0 0 0\n",
      "imp_CT1_SBP 0 0 0 0\n",
      "imp_CT1_BMI 0 0 0 0\n",
      "CT1_HB 0 0 0 0\n",
      "Imp_CT1_ALBUMIN 0 0 0 0\n",
      "CT1_TCHL 0 0 0 0\n",
      "imp_new_EDU 0 0 0 0\n",
      "imp_new_INCOME 0 0 0 0\n",
      "imp_new_DRINK 0 0 0 0\n",
      "imp_new_SMOKE 0 0 0 0\n",
      "new_CT1_gohyeol 0 0 0 0\n",
      "CT1_dangnyo 0 0 0 0\n",
      "CT1_simhyeol 0 0 0 0\n",
      "onset 0 0 0 0\n",
      "onset_tight 0 0 0 0\n"
     ]
    }
   ],
   "source": [
    "missing_check(basic)"
   ]
  },
  {
   "cell_type": "markdown",
   "metadata": {},
   "source": [
    "2. food feature에서 sum, mean, adjsum, adjmean 각각 4개의 food feature 준비"
   ]
  },
  {
   "cell_type": "code",
   "execution_count": 6,
   "metadata": {},
   "outputs": [],
   "source": [
    "food = pd.read_excel(\"/home/user19/pnu_ckd/hexa_preprocessing_after95/data/shared_data/0911_FFQ weight sum mean adjsum adjmean_240913.xlsx\", sheet_name=0)"
   ]
  },
  {
   "cell_type": "code",
   "execution_count": 7,
   "metadata": {},
   "outputs": [],
   "source": [
    "# # there is no missing data\n",
    "# missing_check(food)"
   ]
  },
  {
   "cell_type": "code",
   "execution_count": 7,
   "metadata": {},
   "outputs": [
    {
     "data": {
      "text/plain": [
       "((57231, 22), (57231, 22), (57231, 22), (57231, 22))"
      ]
     },
     "execution_count": 7,
     "metadata": {},
     "output_type": "execute_result"
    }
   ],
   "source": [
    "food_sum = food[['RID', 'F01_Sum', 'F02_Sum', 'F03_Sum', 'F04_Sum', 'F05_Sum', 'F06_Sum',\n",
    "       'F07_Sum', 'F08_Sum', 'F09_Sum', 'F10_Sum', 'F11_Sum', 'F12_Sum',\n",
    "       'F13_Sum', 'F14_Sum', 'F15_Sum', 'F16_Sum', 'F17_Sum', 'F18_Sum',\n",
    "       'F19_Sum', 'F20_Sum', 'F21_Sum']]\n",
    "food_mean = food[['RID', 'F01_Mean', 'F02_Mean', 'F03_Mean',\n",
    "       'F04_Mean', 'F05_Mean', 'F06_Mean', 'F07_Mean', 'F08_Mean', 'F09_Mean',\n",
    "       'F10_Mean', 'F11_Mean', 'F12_Mean', 'F13_Mean', 'F14_Mean', 'F15_Mean',\n",
    "       'F16_Mean', 'F17_Mean', 'F18_Mean', 'F19_Mean', 'F20_Mean', 'F21_Mean']]\n",
    "food_adjusted_sum = food[['RID', 'F01_Sum_res', 'F02_Sum_res', 'F03_Sum_res', 'F04_Sum_res',\n",
    "       'F05_Sum_res', 'F06_Sum_res', 'F07_Sum_res', 'F08_Sum_res',\n",
    "       'F09_Sum_res', 'F10_Sum_res', 'F11_Sum_res', 'F12_Sum_res',\n",
    "       'F13_Sum_res', 'F14_Sum_res', 'F15_Sum_res', 'F16_Sum_res',\n",
    "       'F17_Sum_res', 'F18_Sum_res', 'F19_Sum_res', 'F20_Sum_res',\n",
    "       'F21_Sum_res']]\n",
    "food_adjusted_mean = food[['RID', 'F01_Mean_res', 'F02_Mean_res', 'F03_Mean_res',\n",
    "       'F04_Mean_res', 'F05_Mean_res', 'F06_Mean_res', 'F07_Mean_res',\n",
    "       'F08_Mean_res', 'F09_Mean_res', 'F10_Mean_res', 'F11_Mean_res',\n",
    "       'F12_Mean_res', 'F13_Mean_res', 'F14_Mean_res', 'F15_Mean_res',\n",
    "       'F16_Mean_res', 'F17_Mean_res', 'F18_Mean_res', 'F19_Mean_res',\n",
    "       'F20_Mean_res', 'F21_Mean_res']]\n",
    "\n",
    "food_sum.shape, food_mean.shape, food_adjusted_sum.shape, food_adjusted_mean.shape"
   ]
  },
  {
   "cell_type": "code",
   "execution_count": 10,
   "metadata": {},
   "outputs": [],
   "source": [
    "\"\"\"3-way classification을 위한 dataset 저장.\"\"\"\n",
    "# basic_food_sum.to_csv(\"/home/user19/pnu_ckd/hexa_preprocessing_after95/0911_dl_models/data/0922_data/0922_3way_data/3way_basic_food_sum.csv\", index=False)\n",
    "# basic_food_mean.to_csv(\"/home/user19/pnu_ckd/hexa_preprocessing_after95/0911_dl_models/data/0922_data/0922_3way_data/3way_basic_food_mean.csv\", index=False)\n",
    "# basic_food_adjusted_sum.to_csv(\"/home/user19/pnu_ckd/hexa_preprocessing_after95/0911_dl_models/data/0922_data/0922_3way_data/3way_basic_food_adjusted_sum.csv\", index=False)\n",
    "# basic_food_adjusted_mean.to_csv(\"/home/user19/pnu_ckd/hexa_preprocessing_after95/0911_dl_models/data/0922_data/0922_3way_data/3way_basic_food_adjusted_mean.csv\", index=False)"
   ]
  },
  {
   "cell_type": "code",
   "execution_count": 11,
   "metadata": {},
   "outputs": [],
   "source": [
    "\"\"\"Food / Basic / Basic&Food 비교를 위한 dataset 저장.\"\"\"\n",
    "# basic.to_csv(\"/home/user19/pnu_ckd/hexa_preprocessing_after95/0911_dl_models/data/0922_data/0922_basic_only.csv\", index=False)\n",
    "# food_sum.to_csv(\"/home/user19/pnu_ckd/hexa_preprocessing_after95/0911_dl_models/data/0922_data/0922_food_sum_only.csv\", index=False)\n",
    "# food_mean.to_csv(\"/home/user19/pnu_ckd/hexa_preprocessing_after95/0911_dl_models/data/0922_data/0922_food_mean_only.csv\", index=False)\n",
    "# food_adjusted_sum.to_csv(\"/home/user19/pnu_ckd/hexa_preprocessing_after95/0911_dl_models/data/0922_data/0922_food_adjusted_sum_only.csv\", index=False)\n",
    "# food_adjusted_sum.to_csv(\"/home/user19/pnu_ckd/hexa_preprocessing_after95/0911_dl_models/data/0922_data/0922_food_adjusted_mean_only.csv\", index=False)"
   ]
  },
  {
   "cell_type": "markdown",
   "metadata": {},
   "source": [
    "- RID + basic (15) + onset_tight + food(21) => 계 : 38 columns\n",
    "    - basic : 'CT1_SEX', 'CT1_AGE', 'CT1_eGFR', 'imp_CT1_SBP', 'imp_CT1_BMI', 'CT1_HB', 'Imp_CT1_ALBUMIN', 'CT1_TCHL', 'imp_new_EDU', 'imp_new_INCOME', 'imp_new_DRINK', 'imp_new_SMOKE', 'CT1_gohyeol', 'CT1_dangnyo', 'CT1_simhyeol',\n",
    "    - food : 1 ~ 21"
   ]
  },
  {
   "cell_type": "code",
   "execution_count": 8,
   "metadata": {},
   "outputs": [
    {
     "data": {
      "text/plain": [
       "((57231, 39), (57231, 39), (57231, 39), (57231, 39))"
      ]
     },
     "execution_count": 8,
     "metadata": {},
     "output_type": "execute_result"
    }
   ],
   "source": [
    "basic_food_sum = pd.merge(basic, food_sum, on='RID', how='inner')\n",
    "basic_food_mean = pd.merge(basic, food_mean, on='RID', how='inner')\n",
    "basic_food_adjusted_sum = pd.merge(basic, food_adjusted_sum, on='RID', how='inner')\n",
    "basic_food_adjusted_mean = pd.merge(basic, food_adjusted_mean, on='RID', how='inner')\n",
    "\n",
    "basic_food_sum.shape, basic_food_mean.shape, basic_food_adjusted_sum.shape, basic_food_adjusted_mean.shape"
   ]
  },
  {
   "cell_type": "markdown",
   "metadata": {},
   "source": [
    "3. basic + 4개의 food feature 준비해서 총 4개의 .csv 파일 만들기."
   ]
  },
  {
   "cell_type": "code",
   "execution_count": 16,
   "metadata": {},
   "outputs": [],
   "source": [
    "basic_food_sum.to_csv(\"/home/user19/pnu_ckd/hexa_preprocessing_after95/0911_dl_models/data/0922_data/0922_basic_food_sum.csv\", index=False)\n",
    "basic_food_mean.to_csv(\"/home/user19/pnu_ckd/hexa_preprocessing_after95/0911_dl_models/data/0922_data/0922_basic_food_mean.csv\", index=False)\n",
    "basic_food_adjusted_sum.to_csv(\"/home/user19/pnu_ckd/hexa_preprocessing_after95/0911_dl_models/data/0922_data/0922_basic_food_adjusted_sum.csv\", index=False)\n",
    "basic_food_adjusted_mean.to_csv(\"/home/user19/pnu_ckd/hexa_preprocessing_after95/0911_dl_models/data/0922_data/0922_basic_food_adjusted_mean.csv\", index=False)"
   ]
  },
  {
   "cell_type": "code",
   "execution_count": null,
   "metadata": {},
   "outputs": [],
   "source": []
  }
 ],
 "metadata": {
  "kernelspec": {
   "display_name": "ckd2",
   "language": "python",
   "name": "python3"
  },
  "language_info": {
   "codemirror_mode": {
    "name": "ipython",
    "version": 3
   },
   "file_extension": ".py",
   "mimetype": "text/x-python",
   "name": "python",
   "nbconvert_exporter": "python",
   "pygments_lexer": "ipython3",
   "version": "3.8.13"
  }
 },
 "nbformat": 4,
 "nbformat_minor": 2
}
