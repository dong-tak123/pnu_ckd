{
 "cells": [
  {
   "cell_type": "code",
   "execution_count": 1,
   "metadata": {},
   "outputs": [],
   "source": [
    "import pandas as pd\n",
    "import numpy as np\n",
    "\n",
    "def missing_check(df):\n",
    "    for col in df.columns:\n",
    "        print(col, (df[col]==66666).sum(), (df[col]==77777).sum(), (df[col]==99999).sum(), (df[col].isnull().sum()))"
   ]
  },
  {
   "cell_type": "code",
   "execution_count": 123,
   "metadata": {},
   "outputs": [],
   "source": [
    "import impyute as impy\n",
    "def impute(df, seed=1109):\n",
    "    np.random.seed(seed)\n",
    "    imputated_cols = []\n",
    "    for col in df.columns:\n",
    "        if df[col].isnull().sum() > 0:\n",
    "            print(f\"{col} is preprocessing...\")\n",
    "            imputated_cols.append(col)\n",
    "            df.loc[:, col] = impy.em(df[[col]].values, loops=1000)\n",
    "            # df[col] = df[col].round()\n",
    "            print(f\"{col} processing done!!!\")\n",
    "            print(\"=\" * 30)\n",
    "            \n",
    "    return df, imputated_cols"
   ]
  },
  {
   "cell_type": "code",
   "execution_count": 124,
   "metadata": {},
   "outputs": [],
   "source": [
    "tight3 = pd.read_csv(\"/home/user19/pnu_ckd/hexa_preprocessing_after95/dl_models/data/tight.csv\")"
   ]
  },
  {
   "cell_type": "code",
   "execution_count": 125,
   "metadata": {},
   "outputs": [
    {
     "data": {
      "text/plain": [
       "Index(['RID', 'CT1_SEX', 'CT1_AGE', 'CT1_eGFR', 'CT1_SBP', 'CT1_BMI', 'CT1_HB',\n",
       "       'CT1_ALBUMIN', 'CT1_TCHL', 'CT1_DRINK', 'CT1_SMOKE', 'CT1_gohyeol',\n",
       "       'CT1_dangnyo', 'CT1_simhyeol', 'onset', 'Rice', 'Other grains',\n",
       "       'Noodles and dumplings', 'Wheat flour and bread', 'Potatoes', 'Sweets',\n",
       "       'Soybean pastes', 'Bean, tofu, and soymilk', 'Nuts', 'Vegetables',\n",
       "       'Kimchi', 'Mushroom', 'Fruits', 'Red meat and its products',\n",
       "       'White meat and its products', 'Eggs', 'Fish and shellfish', 'Seaweeds',\n",
       "       'Milk and dairy products', 'Beverage', 'Coffee and tea'],\n",
       "      dtype='object')"
      ]
     },
     "execution_count": 125,
     "metadata": {},
     "output_type": "execute_result"
    }
   ],
   "source": [
    "tight3.columns"
   ]
  },
  {
   "cell_type": "code",
   "execution_count": 126,
   "metadata": {},
   "outputs": [
    {
     "data": {
      "text/html": [
       "<div>\n",
       "<style scoped>\n",
       "    .dataframe tbody tr th:only-of-type {\n",
       "        vertical-align: middle;\n",
       "    }\n",
       "\n",
       "    .dataframe tbody tr th {\n",
       "        vertical-align: top;\n",
       "    }\n",
       "\n",
       "    .dataframe thead th {\n",
       "        text-align: right;\n",
       "    }\n",
       "</style>\n",
       "<table border=\"1\" class=\"dataframe\">\n",
       "  <thead>\n",
       "    <tr style=\"text-align: right;\">\n",
       "      <th></th>\n",
       "      <th>RID</th>\n",
       "      <th>CT1_SEX</th>\n",
       "      <th>CT1_AGE</th>\n",
       "      <th>CT1_eGFR</th>\n",
       "      <th>CT1_SBP</th>\n",
       "      <th>CT1_BMI</th>\n",
       "      <th>CT1_HB</th>\n",
       "      <th>CT1_ALBUMIN</th>\n",
       "      <th>CT1_TCHL</th>\n",
       "      <th>CT1_DRINK</th>\n",
       "      <th>...</th>\n",
       "      <th>Mushroom</th>\n",
       "      <th>Fruits</th>\n",
       "      <th>Red meat and its products</th>\n",
       "      <th>White meat and its products</th>\n",
       "      <th>Eggs</th>\n",
       "      <th>Fish and shellfish</th>\n",
       "      <th>Seaweeds</th>\n",
       "      <th>Milk and dairy products</th>\n",
       "      <th>Beverage</th>\n",
       "      <th>Coffee and tea</th>\n",
       "    </tr>\n",
       "  </thead>\n",
       "  <tbody>\n",
       "    <tr>\n",
       "      <th>0</th>\n",
       "      <td>EPI22_027_142944</td>\n",
       "      <td>2</td>\n",
       "      <td>43</td>\n",
       "      <td>110.752209</td>\n",
       "      <td>119.0</td>\n",
       "      <td>24.06</td>\n",
       "      <td>13.1</td>\n",
       "      <td>4.6</td>\n",
       "      <td>203</td>\n",
       "      <td>0</td>\n",
       "      <td>...</td>\n",
       "      <td>12.857143</td>\n",
       "      <td>852.500000</td>\n",
       "      <td>12.500000</td>\n",
       "      <td>2.500000</td>\n",
       "      <td>10.714286</td>\n",
       "      <td>73.142857</td>\n",
       "      <td>7.000000</td>\n",
       "      <td>208.285714</td>\n",
       "      <td>32.142857</td>\n",
       "      <td>0.578571</td>\n",
       "    </tr>\n",
       "    <tr>\n",
       "      <th>1</th>\n",
       "      <td>EPI22_027_030739</td>\n",
       "      <td>2</td>\n",
       "      <td>47</td>\n",
       "      <td>90.823548</td>\n",
       "      <td>110.0</td>\n",
       "      <td>21.45</td>\n",
       "      <td>13.2</td>\n",
       "      <td>4.4</td>\n",
       "      <td>176</td>\n",
       "      <td>1</td>\n",
       "      <td>...</td>\n",
       "      <td>5.000000</td>\n",
       "      <td>426.250000</td>\n",
       "      <td>26.666667</td>\n",
       "      <td>6.250000</td>\n",
       "      <td>10.714286</td>\n",
       "      <td>62.571429</td>\n",
       "      <td>1.500000</td>\n",
       "      <td>326.000000</td>\n",
       "      <td>12.500000</td>\n",
       "      <td>4.050000</td>\n",
       "    </tr>\n",
       "    <tr>\n",
       "      <th>2</th>\n",
       "      <td>EPI22_027_175154</td>\n",
       "      <td>2</td>\n",
       "      <td>45</td>\n",
       "      <td>79.883404</td>\n",
       "      <td>108.0</td>\n",
       "      <td>19.55</td>\n",
       "      <td>11.8</td>\n",
       "      <td>4.0</td>\n",
       "      <td>163</td>\n",
       "      <td>0</td>\n",
       "      <td>...</td>\n",
       "      <td>6.428571</td>\n",
       "      <td>41.964286</td>\n",
       "      <td>67.559524</td>\n",
       "      <td>0.000000</td>\n",
       "      <td>10.714286</td>\n",
       "      <td>61.869048</td>\n",
       "      <td>3.500000</td>\n",
       "      <td>73.000000</td>\n",
       "      <td>225.000000</td>\n",
       "      <td>184.050000</td>\n",
       "    </tr>\n",
       "    <tr>\n",
       "      <th>3</th>\n",
       "      <td>EPI22_027_047976</td>\n",
       "      <td>2</td>\n",
       "      <td>52</td>\n",
       "      <td>87.075094</td>\n",
       "      <td>124.5</td>\n",
       "      <td>20.85</td>\n",
       "      <td>13.0</td>\n",
       "      <td>4.8</td>\n",
       "      <td>204</td>\n",
       "      <td>1</td>\n",
       "      <td>...</td>\n",
       "      <td>12.857143</td>\n",
       "      <td>173.541667</td>\n",
       "      <td>28.333333</td>\n",
       "      <td>6.250000</td>\n",
       "      <td>10.714286</td>\n",
       "      <td>63.595238</td>\n",
       "      <td>0.583333</td>\n",
       "      <td>204.666667</td>\n",
       "      <td>0.000000</td>\n",
       "      <td>4.050000</td>\n",
       "    </tr>\n",
       "    <tr>\n",
       "      <th>4</th>\n",
       "      <td>EPI22_027_204760</td>\n",
       "      <td>2</td>\n",
       "      <td>50</td>\n",
       "      <td>111.591565</td>\n",
       "      <td>109.0</td>\n",
       "      <td>24.41</td>\n",
       "      <td>12.1</td>\n",
       "      <td>4.3</td>\n",
       "      <td>193</td>\n",
       "      <td>0</td>\n",
       "      <td>...</td>\n",
       "      <td>11.142857</td>\n",
       "      <td>132.500000</td>\n",
       "      <td>23.333333</td>\n",
       "      <td>9.375000</td>\n",
       "      <td>10.714286</td>\n",
       "      <td>49.285714</td>\n",
       "      <td>0.500000</td>\n",
       "      <td>6.000000</td>\n",
       "      <td>48.809524</td>\n",
       "      <td>4.050000</td>\n",
       "    </tr>\n",
       "    <tr>\n",
       "      <th>...</th>\n",
       "      <td>...</td>\n",
       "      <td>...</td>\n",
       "      <td>...</td>\n",
       "      <td>...</td>\n",
       "      <td>...</td>\n",
       "      <td>...</td>\n",
       "      <td>...</td>\n",
       "      <td>...</td>\n",
       "      <td>...</td>\n",
       "      <td>...</td>\n",
       "      <td>...</td>\n",
       "      <td>...</td>\n",
       "      <td>...</td>\n",
       "      <td>...</td>\n",
       "      <td>...</td>\n",
       "      <td>...</td>\n",
       "      <td>...</td>\n",
       "      <td>...</td>\n",
       "      <td>...</td>\n",
       "      <td>...</td>\n",
       "      <td>...</td>\n",
       "    </tr>\n",
       "    <tr>\n",
       "      <th>57226</th>\n",
       "      <td>EPI22_027_193555</td>\n",
       "      <td>2</td>\n",
       "      <td>42</td>\n",
       "      <td>102.025210</td>\n",
       "      <td>147.0</td>\n",
       "      <td>22.26</td>\n",
       "      <td>15.6</td>\n",
       "      <td>4.7</td>\n",
       "      <td>212</td>\n",
       "      <td>0</td>\n",
       "      <td>...</td>\n",
       "      <td>1.750000</td>\n",
       "      <td>295.000000</td>\n",
       "      <td>82.619048</td>\n",
       "      <td>16.071429</td>\n",
       "      <td>5.357143</td>\n",
       "      <td>29.238095</td>\n",
       "      <td>0.750000</td>\n",
       "      <td>74.928571</td>\n",
       "      <td>29.166667</td>\n",
       "      <td>14.050000</td>\n",
       "    </tr>\n",
       "    <tr>\n",
       "      <th>57227</th>\n",
       "      <td>EPI22_027_031104</td>\n",
       "      <td>1</td>\n",
       "      <td>50</td>\n",
       "      <td>103.538357</td>\n",
       "      <td>125.0</td>\n",
       "      <td>24.97</td>\n",
       "      <td>15.1</td>\n",
       "      <td>4.8</td>\n",
       "      <td>179</td>\n",
       "      <td>0</td>\n",
       "      <td>...</td>\n",
       "      <td>2.500000</td>\n",
       "      <td>426.250000</td>\n",
       "      <td>25.500000</td>\n",
       "      <td>0.000000</td>\n",
       "      <td>10.714286</td>\n",
       "      <td>21.023810</td>\n",
       "      <td>0.845238</td>\n",
       "      <td>137.714286</td>\n",
       "      <td>75.000000</td>\n",
       "      <td>8.100000</td>\n",
       "    </tr>\n",
       "    <tr>\n",
       "      <th>57228</th>\n",
       "      <td>EPI22_027_048836</td>\n",
       "      <td>2</td>\n",
       "      <td>41</td>\n",
       "      <td>108.834177</td>\n",
       "      <td>110.0</td>\n",
       "      <td>20.69</td>\n",
       "      <td>14.6</td>\n",
       "      <td>4.3</td>\n",
       "      <td>175</td>\n",
       "      <td>1</td>\n",
       "      <td>...</td>\n",
       "      <td>12.857143</td>\n",
       "      <td>213.125000</td>\n",
       "      <td>108.452381</td>\n",
       "      <td>6.250000</td>\n",
       "      <td>10.714286</td>\n",
       "      <td>36.535714</td>\n",
       "      <td>2.666667</td>\n",
       "      <td>196.000000</td>\n",
       "      <td>6.666667</td>\n",
       "      <td>4.050000</td>\n",
       "    </tr>\n",
       "    <tr>\n",
       "      <th>57229</th>\n",
       "      <td>EPI22_027_123427</td>\n",
       "      <td>2</td>\n",
       "      <td>66</td>\n",
       "      <td>90.573649</td>\n",
       "      <td>126.0</td>\n",
       "      <td>22.93</td>\n",
       "      <td>11.9</td>\n",
       "      <td>5.0</td>\n",
       "      <td>190</td>\n",
       "      <td>0</td>\n",
       "      <td>...</td>\n",
       "      <td>21.428571</td>\n",
       "      <td>134.047619</td>\n",
       "      <td>8.750000</td>\n",
       "      <td>3.125000</td>\n",
       "      <td>5.357143</td>\n",
       "      <td>21.994048</td>\n",
       "      <td>2.750000</td>\n",
       "      <td>68.571429</td>\n",
       "      <td>0.000000</td>\n",
       "      <td>16.200000</td>\n",
       "    </tr>\n",
       "    <tr>\n",
       "      <th>57230</th>\n",
       "      <td>EPI22_027_022952</td>\n",
       "      <td>2</td>\n",
       "      <td>65</td>\n",
       "      <td>78.919338</td>\n",
       "      <td>130.0</td>\n",
       "      <td>23.61</td>\n",
       "      <td>13.0</td>\n",
       "      <td>4.3</td>\n",
       "      <td>202</td>\n",
       "      <td>0</td>\n",
       "      <td>...</td>\n",
       "      <td>0.000000</td>\n",
       "      <td>49.208333</td>\n",
       "      <td>40.000000</td>\n",
       "      <td>8.035714</td>\n",
       "      <td>1.666667</td>\n",
       "      <td>14.309524</td>\n",
       "      <td>0.483333</td>\n",
       "      <td>0.000000</td>\n",
       "      <td>0.000000</td>\n",
       "      <td>0.000000</td>\n",
       "    </tr>\n",
       "  </tbody>\n",
       "</table>\n",
       "<p>57231 rows × 36 columns</p>\n",
       "</div>"
      ],
      "text/plain": [
       "                    RID  CT1_SEX  CT1_AGE    CT1_eGFR  CT1_SBP  CT1_BMI  \\\n",
       "0      EPI22_027_142944        2       43  110.752209    119.0    24.06   \n",
       "1      EPI22_027_030739        2       47   90.823548    110.0    21.45   \n",
       "2      EPI22_027_175154        2       45   79.883404    108.0    19.55   \n",
       "3      EPI22_027_047976        2       52   87.075094    124.5    20.85   \n",
       "4      EPI22_027_204760        2       50  111.591565    109.0    24.41   \n",
       "...                 ...      ...      ...         ...      ...      ...   \n",
       "57226  EPI22_027_193555        2       42  102.025210    147.0    22.26   \n",
       "57227  EPI22_027_031104        1       50  103.538357    125.0    24.97   \n",
       "57228  EPI22_027_048836        2       41  108.834177    110.0    20.69   \n",
       "57229  EPI22_027_123427        2       66   90.573649    126.0    22.93   \n",
       "57230  EPI22_027_022952        2       65   78.919338    130.0    23.61   \n",
       "\n",
       "       CT1_HB  CT1_ALBUMIN  CT1_TCHL  CT1_DRINK  ...   Mushroom      Fruits  \\\n",
       "0        13.1          4.6       203          0  ...  12.857143  852.500000   \n",
       "1        13.2          4.4       176          1  ...   5.000000  426.250000   \n",
       "2        11.8          4.0       163          0  ...   6.428571   41.964286   \n",
       "3        13.0          4.8       204          1  ...  12.857143  173.541667   \n",
       "4        12.1          4.3       193          0  ...  11.142857  132.500000   \n",
       "...       ...          ...       ...        ...  ...        ...         ...   \n",
       "57226    15.6          4.7       212          0  ...   1.750000  295.000000   \n",
       "57227    15.1          4.8       179          0  ...   2.500000  426.250000   \n",
       "57228    14.6          4.3       175          1  ...  12.857143  213.125000   \n",
       "57229    11.9          5.0       190          0  ...  21.428571  134.047619   \n",
       "57230    13.0          4.3       202          0  ...   0.000000   49.208333   \n",
       "\n",
       "       Red meat and its products  White meat and its products       Eggs  \\\n",
       "0                      12.500000                     2.500000  10.714286   \n",
       "1                      26.666667                     6.250000  10.714286   \n",
       "2                      67.559524                     0.000000  10.714286   \n",
       "3                      28.333333                     6.250000  10.714286   \n",
       "4                      23.333333                     9.375000  10.714286   \n",
       "...                          ...                          ...        ...   \n",
       "57226                  82.619048                    16.071429   5.357143   \n",
       "57227                  25.500000                     0.000000  10.714286   \n",
       "57228                 108.452381                     6.250000  10.714286   \n",
       "57229                   8.750000                     3.125000   5.357143   \n",
       "57230                  40.000000                     8.035714   1.666667   \n",
       "\n",
       "       Fish and shellfish  Seaweeds  Milk and dairy products    Beverage  \\\n",
       "0               73.142857  7.000000               208.285714   32.142857   \n",
       "1               62.571429  1.500000               326.000000   12.500000   \n",
       "2               61.869048  3.500000                73.000000  225.000000   \n",
       "3               63.595238  0.583333               204.666667    0.000000   \n",
       "4               49.285714  0.500000                 6.000000   48.809524   \n",
       "...                   ...       ...                      ...         ...   \n",
       "57226           29.238095  0.750000                74.928571   29.166667   \n",
       "57227           21.023810  0.845238               137.714286   75.000000   \n",
       "57228           36.535714  2.666667               196.000000    6.666667   \n",
       "57229           21.994048  2.750000                68.571429    0.000000   \n",
       "57230           14.309524  0.483333                 0.000000    0.000000   \n",
       "\n",
       "       Coffee and tea  \n",
       "0            0.578571  \n",
       "1            4.050000  \n",
       "2          184.050000  \n",
       "3            4.050000  \n",
       "4            4.050000  \n",
       "...               ...  \n",
       "57226       14.050000  \n",
       "57227        8.100000  \n",
       "57228        4.050000  \n",
       "57229       16.200000  \n",
       "57230        0.000000  \n",
       "\n",
       "[57231 rows x 36 columns]"
      ]
     },
     "execution_count": 126,
     "metadata": {},
     "output_type": "execute_result"
    }
   ],
   "source": [
    "tight3"
   ]
  },
  {
   "cell_type": "code",
   "execution_count": 127,
   "metadata": {},
   "outputs": [
    {
     "data": {
      "text/plain": [
       "Index(['RID', 'CT1_SEX', 'CT1_AGE', 'CT1_eGFR', 'CT1_SBP', 'CT1_BMI', 'CT1_HB',\n",
       "       'CT1_ALBUMIN', 'CT1_TCHL', 'CT1_DRINK', 'CT1_SMOKE', 'CT1_gohyeol',\n",
       "       'CT1_dangnyo', 'CT1_simhyeol', 'onset', 'Rice', 'Other grains',\n",
       "       'Noodles and dumplings', 'Wheat flour and bread', 'Potatoes', 'Sweets',\n",
       "       'Soybean pastes', 'Bean, tofu, and soymilk', 'Nuts', 'Vegetables',\n",
       "       'Kimchi', 'Mushroom', 'Fruits', 'Red meat and its products',\n",
       "       'White meat and its products', 'Eggs', 'Fish and shellfish', 'Seaweeds',\n",
       "       'Milk and dairy products', 'Beverage', 'Coffee and tea'],\n",
       "      dtype='object')"
      ]
     },
     "execution_count": 127,
     "metadata": {},
     "output_type": "execute_result"
    }
   ],
   "source": [
    "tight3.columns"
   ]
  },
  {
   "cell_type": "markdown",
   "metadata": {},
   "source": [
    "# basic feature raw data 가져와서 RID 확인 및 그룹핑\n",
    "- drink, smoke, edu, income 제외."
   ]
  },
  {
   "cell_type": "code",
   "execution_count": 128,
   "metadata": {},
   "outputs": [],
   "source": [
    "temp_basic = pd.read_csv(\"/home/user19/pnu_ckd/HEXA/HEXA_1/ct1_01_examinee.csv\")"
   ]
  },
  {
   "cell_type": "code",
   "execution_count": 129,
   "metadata": {},
   "outputs": [],
   "source": [
    "temp_basic = temp_basic[temp_basic['RID'].isin(tight3['RID'])]\n",
    "temp_basic = temp_basic[['RID', 'CT1_SEX', 'CT1_AGE']]"
   ]
  },
  {
   "cell_type": "code",
   "execution_count": 130,
   "metadata": {},
   "outputs": [
    {
     "name": "stdout",
     "output_type": "stream",
     "text": [
      "RID 0 0 0 0\n",
      "CT1_SEX 0 0 0 0\n",
      "CT1_AGE 0 0 0 0\n",
      "RID 0 0 0 0\n",
      "CT1_SEX 0 0 0 0\n",
      "CT1_AGE 0 0 0 0\n"
     ]
    }
   ],
   "source": [
    "# Sex, Age 는 missing 없음.\n",
    "missing_check(temp_basic)\n",
    "temp_basic.replace(66666, 99999, inplace=True)\n",
    "missing_check(temp_basic)"
   ]
  },
  {
   "cell_type": "markdown",
   "metadata": {},
   "source": [
    "### 신체 계측 정보 전처리\n",
    "\n",
    "- anthropometry, biochem"
   ]
  },
  {
   "cell_type": "code",
   "execution_count": 131,
   "metadata": {},
   "outputs": [],
   "source": [
    "temp_body = pd.read_csv(f\"/home/user19/pnu_ckd/HEXA/HEXA_1/ct1_14_anthropometry.csv\")"
   ]
  },
  {
   "cell_type": "code",
   "execution_count": 132,
   "metadata": {},
   "outputs": [],
   "source": [
    "temp_body = temp_body[temp_body['RID'].isin(tight3['RID'])]\n",
    "temp_body = temp_body[['RID', 'CT1_SBP', 'CT1_DBP', 'CT1_WAIST', 'CT1_BMI']]"
   ]
  },
  {
   "cell_type": "code",
   "execution_count": 133,
   "metadata": {},
   "outputs": [],
   "source": [
    "# missing_check(temp_body)\n",
    "# temp_body.replace(99999, np.nan, inplace=True)\n",
    "# temp_body, _ = impute(temp_body)\n",
    "# missing_check(temp_body)"
   ]
  },
  {
   "cell_type": "markdown",
   "metadata": {},
   "source": [
    "- biochem"
   ]
  },
  {
   "cell_type": "code",
   "execution_count": 134,
   "metadata": {},
   "outputs": [],
   "source": [
    "temp_biochem = pd.read_csv(f\"/home/user19/pnu_ckd/HEXA/HEXA_1/ct1_15_biochem.csv\")"
   ]
  },
  {
   "cell_type": "code",
   "execution_count": 135,
   "metadata": {},
   "outputs": [],
   "source": [
    "temp_biochem = temp_biochem[temp_biochem['RID'].isin(tight3['RID'])]\n",
    "temp_biochem = temp_biochem[['RID', 'CT1_HB', 'CT1_ALBUMIN', 'CT1_TCHL', \"CT1_HDL\", \"CT1_TG\", \"CT1_HBA1C\", 'CT1_GLU0']]"
   ]
  },
  {
   "cell_type": "code",
   "execution_count": 136,
   "metadata": {},
   "outputs": [],
   "source": [
    "# missing_check(temp_biochem)\n",
    "# temp_biochem[['CT1_ALBUMIN', 'CT1_GLU0']] = temp_biochem[['CT1_ALBUMIN', 'CT1_GLU0']].replace(99999, np.nan)\n",
    "# missing_check(temp_biochem)"
   ]
  },
  {
   "cell_type": "code",
   "execution_count": 137,
   "metadata": {},
   "outputs": [],
   "source": [
    "# missing_check(temp_biochem)\n",
    "# temp_biochem, _ = impute(temp_biochem)\n",
    "# missing_check(temp_biochem)"
   ]
  },
  {
   "cell_type": "markdown",
   "metadata": {},
   "source": [
    "### 고혈압\n",
    "- missing 인 column은 모두 고혈압이 없는 것이라고 생각."
   ]
  },
  {
   "cell_type": "code",
   "execution_count": 138,
   "metadata": {},
   "outputs": [],
   "source": [
    "disease = pd.read_csv(f\"/home/user19/pnu_ckd/HEXA/HEXA_1/ct1_02_disease.csv\")"
   ]
  },
  {
   "cell_type": "code",
   "execution_count": 139,
   "metadata": {},
   "outputs": [
    {
     "data": {
      "text/plain": [
       "Index(['RID', 'CT1_HTN', 'CT1_HTNAG', 'CT1_HTNCU', 'CT1_HTNCU1', 'CT1_HTNCUTY',\n",
       "       'CT1_HTNCUTRPM', 'CT1_HTNCUTRDI', 'CT1_HTNCUTREX', 'CT1_BP_MEDI',\n",
       "       ...\n",
       "       'CT1_FRAC2AG', 'CT1_FRAC2CU', 'CT1_FRAC2CA', 'CT1_FRAC2SP',\n",
       "       'CT1_FRAC2_CG1', 'CT1_FRAC2_LR1', 'CT1_FRAC2_CG2', 'CT1_FRAC2_LR2',\n",
       "       'CT1_FRAC2_CG3', 'CT1_FRAC2_LR3'],\n",
       "      dtype='object', length=165)"
      ]
     },
     "execution_count": 139,
     "metadata": {},
     "output_type": "execute_result"
    }
   ],
   "source": [
    "disease.columns"
   ]
  },
  {
   "cell_type": "code",
   "execution_count": 140,
   "metadata": {},
   "outputs": [],
   "source": [
    "gohyeol = disease[disease['RID'].isin(tight3['RID'])][['RID', 'CT1_HTN', \"CT1_HTNCU\", \"CT1_HTNCU1\", \"CT1_BP_MEDI\"]]\n",
    "gohyeol = pd.merge(gohyeol, temp_body[['RID', 'CT1_SBP', 'CT1_DBP']], on='RID', how='inner')"
   ]
  },
  {
   "cell_type": "code",
   "execution_count": 141,
   "metadata": {},
   "outputs": [],
   "source": [
    "# missing_check(gohyeol)\n",
    "# gohyeol.replace(66666, np.nan, inplace=True)\n",
    "# gohyeol.replace(77777, np.nan, inplace=True)\n",
    "# gohyeol.replace(99999, np.nan, inplace=True)\n",
    "# missing_check(gohyeol)"
   ]
  },
  {
   "cell_type": "code",
   "execution_count": 142,
   "metadata": {},
   "outputs": [
    {
     "data": {
      "text/plain": [
       "(CT1_HTN\n",
       " 1        46328\n",
       " 2        10852\n",
       " 99999       51\n",
       " Name: count, dtype: int64,\n",
       " 57231)"
      ]
     },
     "execution_count": 142,
     "metadata": {},
     "output_type": "execute_result"
    }
   ],
   "source": [
    "gohyeol['CT1_HTN'].value_counts(), gohyeol['CT1_HTN'].value_counts().sum()"
   ]
  },
  {
   "cell_type": "code",
   "execution_count": 143,
   "metadata": {},
   "outputs": [],
   "source": [
    "# missing은 0으로 간주하기 때문에 애초에 0으로 지정.\n",
    "gohyeol['new_gohyeol'] = 0\n",
    "gohyeol.loc[gohyeol['CT1_HTN'] == 2, 'new_gohyeol'] = 1\n",
    "gohyeol.loc[gohyeol['CT1_HTN'] == 1, 'new_gohyeol'] = 0"
   ]
  },
  {
   "cell_type": "code",
   "execution_count": 144,
   "metadata": {},
   "outputs": [
    {
     "data": {
      "text/plain": [
       "(new_gohyeol\n",
       " 0    46379\n",
       " 1    10852\n",
       " Name: count, dtype: int64,\n",
       " 57231)"
      ]
     },
     "execution_count": 144,
     "metadata": {},
     "output_type": "execute_result"
    }
   ],
   "source": [
    "gohyeol['new_gohyeol'].value_counts(), gohyeol['new_gohyeol'].value_counts().sum()"
   ]
  },
  {
   "cell_type": "code",
   "execution_count": 145,
   "metadata": {},
   "outputs": [
    {
     "data": {
      "text/plain": [
       "(new_gohyeol\n",
       " 0    41328\n",
       " 1    15903\n",
       " Name: count, dtype: int64,\n",
       " 57231)"
      ]
     },
     "execution_count": 145,
     "metadata": {},
     "output_type": "execute_result"
    }
   ],
   "source": [
    "# missing인 샘플들 + 1인 샘플들\n",
    "gohyeol.loc[(gohyeol['CT1_HTN'] != 2) & ((gohyeol['CT1_HTNCU'] == 2) | (gohyeol['CT1_HTNCU1'] == 2) | (gohyeol['CT1_BP_MEDI'] == 2) | \n",
    "                                         ((gohyeol['CT1_SBP'] >= 140) & (gohyeol['CT1_SBP'] < 66666)) | ((gohyeol['CT1_DBP'] >= 90) & (gohyeol['CT1_DBP'] < 66666))),'new_gohyeol'] = 1\n",
    "gohyeol['new_gohyeol'].value_counts(), gohyeol['new_gohyeol'].value_counts().sum()"
   ]
  },
  {
   "cell_type": "code",
   "execution_count": 146,
   "metadata": {},
   "outputs": [],
   "source": [
    "temp = gohyeol[['RID', 'new_gohyeol']]"
   ]
  },
  {
   "cell_type": "code",
   "execution_count": 147,
   "metadata": {},
   "outputs": [
    {
     "data": {
      "text/plain": [
       "CT1_gohyeol\n",
       "0    41328\n",
       "1    15903\n",
       "Name: count, dtype: int64"
      ]
     },
     "execution_count": 147,
     "metadata": {},
     "output_type": "execute_result"
    }
   ],
   "source": [
    "temp = temp.rename(columns={\"new_gohyeol\" : \"CT1_gohyeol\"})\n",
    "temp['CT1_gohyeol'].value_counts()"
   ]
  },
  {
   "cell_type": "code",
   "execution_count": 148,
   "metadata": {},
   "outputs": [],
   "source": [
    "# temp.to_csv(\"/home/user19/pnu_ckd/hexa_preprocessing_after95/data/shared_data/gohyeol.csv\", index=False)"
   ]
  },
  {
   "cell_type": "code",
   "execution_count": 149,
   "metadata": {},
   "outputs": [],
   "source": [
    "final_data = pd.read_excel(\"/home/user19/pnu_ckd/hexa_preprocessing_after95/data/shared_data/0911_HEXA_HJ 변수명 재정리_R.xlsx\", sheet_name=0)"
   ]
  },
  {
   "cell_type": "code",
   "execution_count": 150,
   "metadata": {},
   "outputs": [
    {
     "data": {
      "text/plain": [
       "CT1_gohyeol\n",
       "0    41256\n",
       "1    15975\n",
       "Name: count, dtype: int64"
      ]
     },
     "execution_count": 150,
     "metadata": {},
     "output_type": "execute_result"
    }
   ],
   "source": [
    "final_data['CT1_gohyeol'].value_counts()"
   ]
  },
  {
   "cell_type": "code",
   "execution_count": 151,
   "metadata": {},
   "outputs": [],
   "source": [
    "final_data.drop(['CT1_gohyeol'], axis=1, inplace=True)"
   ]
  },
  {
   "cell_type": "code",
   "execution_count": 152,
   "metadata": {},
   "outputs": [],
   "source": [
    "final_data = pd.merge(final_data, temp, on='RID', how='inner')"
   ]
  },
  {
   "cell_type": "code",
   "execution_count": 153,
   "metadata": {},
   "outputs": [],
   "source": [
    "final_data = final_data[['RID', 'CT1_SEX', 'CT1_AGE', 'CT1_eGFR', 'imp_CT1_SBP', 'imp_CT1_BMI',\n",
    "       'CT1_HB', 'Imp_CT1_ALBUMIN', 'CT1_TCHL', 'imp_new_EDU',\n",
    "       'imp_new_INCOME', 'imp_new_DRINK', 'imp_new_SMOKE', 'CT1_gohyeol',\n",
    "       'CT1_dangnyo', 'CT1_simhyeol', 'onset', 'onset_tight', 'duration']]"
   ]
  },
  {
   "cell_type": "code",
   "execution_count": 154,
   "metadata": {},
   "outputs": [
    {
     "data": {
      "text/plain": [
       "CT1_gohyeol\n",
       "0    41328\n",
       "1    15903\n",
       "Name: count, dtype: int64"
      ]
     },
     "execution_count": 154,
     "metadata": {},
     "output_type": "execute_result"
    }
   ],
   "source": [
    "final_data['CT1_gohyeol'].value_counts()"
   ]
  },
  {
   "cell_type": "code",
   "execution_count": 155,
   "metadata": {},
   "outputs": [
    {
     "data": {
      "text/plain": [
       "Index(['RID', 'CT1_SEX', 'CT1_AGE', 'CT1_eGFR', 'imp_CT1_SBP', 'imp_CT1_BMI',\n",
       "       'CT1_HB', 'Imp_CT1_ALBUMIN', 'CT1_TCHL', 'imp_new_EDU',\n",
       "       'imp_new_INCOME', 'imp_new_DRINK', 'imp_new_SMOKE', 'CT1_gohyeol',\n",
       "       'CT1_dangnyo', 'CT1_simhyeol', 'onset', 'onset_tight', 'duration'],\n",
       "      dtype='object')"
      ]
     },
     "execution_count": 155,
     "metadata": {},
     "output_type": "execute_result"
    }
   ],
   "source": [
    "final_data.columns"
   ]
  },
  {
   "cell_type": "code",
   "execution_count": 156,
   "metadata": {},
   "outputs": [],
   "source": [
    "# final_data.to_csv(\"/home/user19/pnu_ckd/hexa_preprocessing_after95/data/shared_data/0911_HEXA_HJ 변수명 재정리_R_onlybasic_aftergohyeolcheck.csv\", index=False)"
   ]
  },
  {
   "cell_type": "markdown",
   "metadata": {},
   "source": [
    "### 당뇨"
   ]
  },
  {
   "cell_type": "code",
   "execution_count": 157,
   "metadata": {},
   "outputs": [
    {
     "data": {
      "text/plain": [
       "Index(['RID', 'CT1_HB', 'CT1_ALBUMIN', 'CT1_TCHL', 'CT1_HDL', 'CT1_TG',\n",
       "       'CT1_HBA1C', 'CT1_GLU0'],\n",
       "      dtype='object')"
      ]
     },
     "execution_count": 157,
     "metadata": {},
     "output_type": "execute_result"
    }
   ],
   "source": [
    "temp_biochem.columns"
   ]
  },
  {
   "cell_type": "code",
   "execution_count": 158,
   "metadata": {},
   "outputs": [],
   "source": [
    "dangnyo = disease[disease['RID'].isin(tight3['RID'])][['RID', 'CT1_DM', \"CT1_DMCU\", \"CT1_DMCU1\", \"CT1_DMCUTRPM\", \"CT1_DMCUTRIN\"]]\n",
    "dangnyo = pd.merge(dangnyo, temp_biochem[['RID', 'CT1_GLU0', 'CT1_HBA1C']], on='RID')"
   ]
  },
  {
   "cell_type": "code",
   "execution_count": 159,
   "metadata": {},
   "outputs": [
    {
     "name": "stdout",
     "output_type": "stream",
     "text": [
      "RID 0 0 0 0\n",
      "CT1_DM 0 0 73 0\n",
      "CT1_DMCU 1378 52257 101 0\n",
      "CT1_DMCU1 55853 1322 5 0\n",
      "CT1_DMCUTRPM 21598 33558 30 0\n",
      "CT1_DMCUTRIN 21598 33558 64 0\n",
      "CT1_GLU0 0 0 10 0\n",
      "CT1_HBA1C 21598 0 9752 0\n",
      "RID 0 0 0 0\n",
      "CT1_DM 0 0 0 73\n",
      "CT1_DMCU 0 0 0 53736\n",
      "CT1_DMCU1 0 0 0 57180\n",
      "CT1_DMCUTRPM 0 0 0 55186\n",
      "CT1_DMCUTRIN 0 0 0 55220\n",
      "CT1_GLU0 0 0 0 10\n",
      "CT1_HBA1C 0 0 0 31350\n"
     ]
    }
   ],
   "source": [
    "missing_check(dangnyo)\n",
    "dangnyo.replace(66666, np.nan, inplace=True)\n",
    "dangnyo.replace(77777, np.nan, inplace=True)\n",
    "dangnyo.replace(99999, np.nan, inplace=True)\n",
    "missing_check(dangnyo)"
   ]
  },
  {
   "cell_type": "code",
   "execution_count": 160,
   "metadata": {},
   "outputs": [
    {
     "data": {
      "text/plain": [
       "(CT1_DM\n",
       " 1.0    53579\n",
       " 2.0     3579\n",
       " Name: count, dtype: int64,\n",
       " 57158)"
      ]
     },
     "execution_count": 160,
     "metadata": {},
     "output_type": "execute_result"
    }
   ],
   "source": [
    "dangnyo['CT1_DM'].value_counts(), dangnyo['CT1_DM'].value_counts().sum()"
   ]
  },
  {
   "cell_type": "code",
   "execution_count": 161,
   "metadata": {},
   "outputs": [],
   "source": [
    "# missing이면 0이라서 애초에 0으로 지정\n",
    "dangnyo['new_dangnyo'] = 0\n",
    "dangnyo.loc[dangnyo['CT1_DM'] == 2, 'new_dangnyo'] = 1\n",
    "dangnyo.loc[dangnyo['CT1_DM'] == 1, 'new_dangnyo'] = 0"
   ]
  },
  {
   "cell_type": "code",
   "execution_count": 162,
   "metadata": {},
   "outputs": [
    {
     "data": {
      "text/plain": [
       "(new_dangnyo\n",
       " 0    53652\n",
       " 1     3579\n",
       " Name: count, dtype: int64,\n",
       " 57231)"
      ]
     },
     "execution_count": 162,
     "metadata": {},
     "output_type": "execute_result"
    }
   ],
   "source": [
    "dangnyo['new_dangnyo'].value_counts(), dangnyo['new_dangnyo'].value_counts().sum()"
   ]
  },
  {
   "cell_type": "code",
   "execution_count": 163,
   "metadata": {},
   "outputs": [
    {
     "data": {
      "text/plain": [
       "(new_dangnyo\n",
       " 0    52165\n",
       " 1     5066\n",
       " Name: count, dtype: int64,\n",
       " 57231)"
      ]
     },
     "execution_count": 163,
     "metadata": {},
     "output_type": "execute_result"
    }
   ],
   "source": [
    "# missing인 샘플들 + 1인 샘플들\n",
    "dangnyo.loc[(dangnyo['CT1_DM'] != 2) & ((dangnyo['CT1_DMCU'] == 2) | (dangnyo['CT1_DMCU1'] == 2) | (dangnyo['CT1_DMCUTRPM'] == 2) | \n",
    "                                         (dangnyo['CT1_DMCUTRIN'] ==2) | (dangnyo['CT1_GLU0'] >= 126 ) | ((6.5 <= dangnyo['CT1_HBA1C']) & (dangnyo['CT1_HBA1C'] < 66666))),'new_dangnyo'] = 1\n",
    "dangnyo['new_dangnyo'].value_counts(), dangnyo['new_dangnyo'].value_counts().sum()"
   ]
  },
  {
   "cell_type": "markdown",
   "metadata": {},
   "source": [
    "### 심혈관 질환"
   ]
  },
  {
   "cell_type": "code",
   "execution_count": 164,
   "metadata": {},
   "outputs": [],
   "source": [
    "simhyeol = disease[disease['RID'].isin(tight3['RID'])][['RID', \"CT1_CVA\", \"CT1_TIA\", \"CT1_MI\", \"CT1_CVACU\", \"CT1_CVACU1\", \"CT1_TIACU\", \"CT1_TIACU1\", \"CT1_MICU\", \"CT1_MICU1\"]]"
   ]
  },
  {
   "cell_type": "code",
   "execution_count": 165,
   "metadata": {},
   "outputs": [
    {
     "name": "stdout",
     "output_type": "stream",
     "text": [
      "RID 0 0 0 0\n",
      "CT1_CVA 0 0 56 0\n",
      "CT1_TIA 45434 0 25 0\n",
      "CT1_MI 0 0 67 0\n",
      "CT1_CVACU 5478 51157 63 0\n",
      "CT1_CVACU1 55853 1367 3 0\n",
      "CT1_TIACU 46812 10368 29 0\n",
      "CT1_TIACU1 55853 1373 2 0\n",
      "CT1_MICU 5478 50252 83 0\n",
      "CT1_MICU1 55853 1347 6 0\n",
      "RID 0 0 0 0\n",
      "CT1_CVA 0 0 0 56\n",
      "CT1_TIA 0 0 0 45459\n",
      "CT1_MI 0 0 0 67\n",
      "CT1_CVACU 0 0 0 56698\n",
      "CT1_CVACU1 0 0 0 57223\n",
      "CT1_TIACU 0 0 0 57209\n",
      "CT1_TIACU1 0 0 0 57228\n",
      "CT1_MICU 0 0 0 55813\n",
      "CT1_MICU1 0 0 0 57206\n"
     ]
    }
   ],
   "source": [
    "missing_check(simhyeol)\n",
    "simhyeol.replace(66666, np.nan, inplace=True)\n",
    "simhyeol.replace(77777, np.nan, inplace=True)\n",
    "simhyeol.replace(99999, np.nan, inplace=True)\n",
    "missing_check(simhyeol)"
   ]
  },
  {
   "cell_type": "code",
   "execution_count": 166,
   "metadata": {},
   "outputs": [
    {
     "data": {
      "text/plain": [
       "new_simhyeol\n",
       "0    55106\n",
       "1     2125\n",
       "Name: count, dtype: int64"
      ]
     },
     "execution_count": 166,
     "metadata": {},
     "output_type": "execute_result"
    }
   ],
   "source": [
    "simhyeol['new_simhyeol'] = (simhyeol == 2).any(axis=1).astype(int)\n",
    "simhyeol['new_simhyeol'].value_counts()"
   ]
  },
  {
   "cell_type": "code",
   "execution_count": 167,
   "metadata": {},
   "outputs": [],
   "source": [
    "temp_basic = pd.merge(temp_basic, temp_body[['RID', 'CT1_SBP', 'CT1_BMI']], on='RID', how='inner')\n",
    "temp_basic = pd.merge(temp_basic, temp_biochem[['RID', 'CT1_HB', 'CT1_ALBUMIN', 'CT1_TCHL']], on='RID', how='inner')\n",
    "temp_basic = pd.merge(temp_basic, tight3[['RID', 'CT1_eGFR']], on='RID', how='inner')"
   ]
  },
  {
   "cell_type": "code",
   "execution_count": 168,
   "metadata": {},
   "outputs": [
    {
     "data": {
      "text/html": [
       "<div>\n",
       "<style scoped>\n",
       "    .dataframe tbody tr th:only-of-type {\n",
       "        vertical-align: middle;\n",
       "    }\n",
       "\n",
       "    .dataframe tbody tr th {\n",
       "        vertical-align: top;\n",
       "    }\n",
       "\n",
       "    .dataframe thead th {\n",
       "        text-align: right;\n",
       "    }\n",
       "</style>\n",
       "<table border=\"1\" class=\"dataframe\">\n",
       "  <thead>\n",
       "    <tr style=\"text-align: right;\">\n",
       "      <th></th>\n",
       "      <th>RID</th>\n",
       "      <th>CT1_SEX</th>\n",
       "      <th>CT1_AGE</th>\n",
       "      <th>CT1_SBP</th>\n",
       "      <th>CT1_BMI</th>\n",
       "      <th>CT1_HB</th>\n",
       "      <th>CT1_ALBUMIN</th>\n",
       "      <th>CT1_TCHL</th>\n",
       "      <th>CT1_eGFR</th>\n",
       "    </tr>\n",
       "  </thead>\n",
       "  <tbody>\n",
       "    <tr>\n",
       "      <th>0</th>\n",
       "      <td>EPI22_027_142944</td>\n",
       "      <td>2</td>\n",
       "      <td>43</td>\n",
       "      <td>119.0</td>\n",
       "      <td>24.06</td>\n",
       "      <td>13.1</td>\n",
       "      <td>4.6</td>\n",
       "      <td>203</td>\n",
       "      <td>110.752209</td>\n",
       "    </tr>\n",
       "    <tr>\n",
       "      <th>1</th>\n",
       "      <td>EPI22_027_030739</td>\n",
       "      <td>2</td>\n",
       "      <td>47</td>\n",
       "      <td>110.0</td>\n",
       "      <td>21.45</td>\n",
       "      <td>13.2</td>\n",
       "      <td>4.4</td>\n",
       "      <td>176</td>\n",
       "      <td>90.823548</td>\n",
       "    </tr>\n",
       "    <tr>\n",
       "      <th>2</th>\n",
       "      <td>EPI22_027_175154</td>\n",
       "      <td>2</td>\n",
       "      <td>45</td>\n",
       "      <td>108.0</td>\n",
       "      <td>19.55</td>\n",
       "      <td>11.8</td>\n",
       "      <td>4.0</td>\n",
       "      <td>163</td>\n",
       "      <td>79.883404</td>\n",
       "    </tr>\n",
       "    <tr>\n",
       "      <th>3</th>\n",
       "      <td>EPI22_027_047976</td>\n",
       "      <td>2</td>\n",
       "      <td>52</td>\n",
       "      <td>124.5</td>\n",
       "      <td>20.85</td>\n",
       "      <td>13.0</td>\n",
       "      <td>4.8</td>\n",
       "      <td>204</td>\n",
       "      <td>87.075094</td>\n",
       "    </tr>\n",
       "    <tr>\n",
       "      <th>4</th>\n",
       "      <td>EPI22_027_204760</td>\n",
       "      <td>2</td>\n",
       "      <td>50</td>\n",
       "      <td>109.0</td>\n",
       "      <td>24.41</td>\n",
       "      <td>12.1</td>\n",
       "      <td>4.3</td>\n",
       "      <td>193</td>\n",
       "      <td>111.591565</td>\n",
       "    </tr>\n",
       "    <tr>\n",
       "      <th>...</th>\n",
       "      <td>...</td>\n",
       "      <td>...</td>\n",
       "      <td>...</td>\n",
       "      <td>...</td>\n",
       "      <td>...</td>\n",
       "      <td>...</td>\n",
       "      <td>...</td>\n",
       "      <td>...</td>\n",
       "      <td>...</td>\n",
       "    </tr>\n",
       "    <tr>\n",
       "      <th>57226</th>\n",
       "      <td>EPI22_027_193555</td>\n",
       "      <td>2</td>\n",
       "      <td>42</td>\n",
       "      <td>147.0</td>\n",
       "      <td>22.26</td>\n",
       "      <td>15.6</td>\n",
       "      <td>4.7</td>\n",
       "      <td>212</td>\n",
       "      <td>102.025210</td>\n",
       "    </tr>\n",
       "    <tr>\n",
       "      <th>57227</th>\n",
       "      <td>EPI22_027_031104</td>\n",
       "      <td>1</td>\n",
       "      <td>50</td>\n",
       "      <td>125.0</td>\n",
       "      <td>24.97</td>\n",
       "      <td>15.1</td>\n",
       "      <td>4.8</td>\n",
       "      <td>179</td>\n",
       "      <td>103.538357</td>\n",
       "    </tr>\n",
       "    <tr>\n",
       "      <th>57228</th>\n",
       "      <td>EPI22_027_048836</td>\n",
       "      <td>2</td>\n",
       "      <td>41</td>\n",
       "      <td>110.0</td>\n",
       "      <td>20.69</td>\n",
       "      <td>14.6</td>\n",
       "      <td>4.3</td>\n",
       "      <td>175</td>\n",
       "      <td>108.834177</td>\n",
       "    </tr>\n",
       "    <tr>\n",
       "      <th>57229</th>\n",
       "      <td>EPI22_027_123427</td>\n",
       "      <td>2</td>\n",
       "      <td>66</td>\n",
       "      <td>126.0</td>\n",
       "      <td>22.93</td>\n",
       "      <td>11.9</td>\n",
       "      <td>5.0</td>\n",
       "      <td>190</td>\n",
       "      <td>90.573649</td>\n",
       "    </tr>\n",
       "    <tr>\n",
       "      <th>57230</th>\n",
       "      <td>EPI22_027_022952</td>\n",
       "      <td>2</td>\n",
       "      <td>65</td>\n",
       "      <td>130.0</td>\n",
       "      <td>23.61</td>\n",
       "      <td>13.0</td>\n",
       "      <td>4.3</td>\n",
       "      <td>202</td>\n",
       "      <td>78.919338</td>\n",
       "    </tr>\n",
       "  </tbody>\n",
       "</table>\n",
       "<p>57231 rows × 9 columns</p>\n",
       "</div>"
      ],
      "text/plain": [
       "                    RID  CT1_SEX  CT1_AGE  CT1_SBP  CT1_BMI  CT1_HB  \\\n",
       "0      EPI22_027_142944        2       43    119.0    24.06    13.1   \n",
       "1      EPI22_027_030739        2       47    110.0    21.45    13.2   \n",
       "2      EPI22_027_175154        2       45    108.0    19.55    11.8   \n",
       "3      EPI22_027_047976        2       52    124.5    20.85    13.0   \n",
       "4      EPI22_027_204760        2       50    109.0    24.41    12.1   \n",
       "...                 ...      ...      ...      ...      ...     ...   \n",
       "57226  EPI22_027_193555        2       42    147.0    22.26    15.6   \n",
       "57227  EPI22_027_031104        1       50    125.0    24.97    15.1   \n",
       "57228  EPI22_027_048836        2       41    110.0    20.69    14.6   \n",
       "57229  EPI22_027_123427        2       66    126.0    22.93    11.9   \n",
       "57230  EPI22_027_022952        2       65    130.0    23.61    13.0   \n",
       "\n",
       "       CT1_ALBUMIN  CT1_TCHL    CT1_eGFR  \n",
       "0              4.6       203  110.752209  \n",
       "1              4.4       176   90.823548  \n",
       "2              4.0       163   79.883404  \n",
       "3              4.8       204   87.075094  \n",
       "4              4.3       193  111.591565  \n",
       "...            ...       ...         ...  \n",
       "57226          4.7       212  102.025210  \n",
       "57227          4.8       179  103.538357  \n",
       "57228          4.3       175  108.834177  \n",
       "57229          5.0       190   90.573649  \n",
       "57230          4.3       202   78.919338  \n",
       "\n",
       "[57231 rows x 9 columns]"
      ]
     },
     "execution_count": 168,
     "metadata": {},
     "output_type": "execute_result"
    }
   ],
   "source": [
    "temp_basic"
   ]
  },
  {
   "cell_type": "code",
   "execution_count": 169,
   "metadata": {},
   "outputs": [],
   "source": [
    "temp_basic = pd.merge(temp_basic, gohyeol[['RID', 'new_gohyeol']], on='RID', how='inner')\n",
    "temp_basic = pd.merge(temp_basic, dangnyo[['RID', 'new_dangnyo']], on='RID', how='inner')\n",
    "temp_basic = pd.merge(temp_basic, simhyeol[['RID', 'new_simhyeol']], on='RID', how='inner')"
   ]
  },
  {
   "cell_type": "code",
   "execution_count": 170,
   "metadata": {},
   "outputs": [
    {
     "data": {
      "text/html": [
       "<div>\n",
       "<style scoped>\n",
       "    .dataframe tbody tr th:only-of-type {\n",
       "        vertical-align: middle;\n",
       "    }\n",
       "\n",
       "    .dataframe tbody tr th {\n",
       "        vertical-align: top;\n",
       "    }\n",
       "\n",
       "    .dataframe thead th {\n",
       "        text-align: right;\n",
       "    }\n",
       "</style>\n",
       "<table border=\"1\" class=\"dataframe\">\n",
       "  <thead>\n",
       "    <tr style=\"text-align: right;\">\n",
       "      <th></th>\n",
       "      <th>RID</th>\n",
       "      <th>CT1_SEX</th>\n",
       "      <th>CT1_AGE</th>\n",
       "      <th>CT1_SBP</th>\n",
       "      <th>CT1_BMI</th>\n",
       "      <th>CT1_HB</th>\n",
       "      <th>CT1_ALBUMIN</th>\n",
       "      <th>CT1_TCHL</th>\n",
       "      <th>CT1_eGFR</th>\n",
       "      <th>new_gohyeol</th>\n",
       "      <th>new_dangnyo</th>\n",
       "      <th>new_simhyeol</th>\n",
       "    </tr>\n",
       "  </thead>\n",
       "  <tbody>\n",
       "    <tr>\n",
       "      <th>0</th>\n",
       "      <td>EPI22_027_142944</td>\n",
       "      <td>2</td>\n",
       "      <td>43</td>\n",
       "      <td>119.0</td>\n",
       "      <td>24.06</td>\n",
       "      <td>13.1</td>\n",
       "      <td>4.6</td>\n",
       "      <td>203</td>\n",
       "      <td>110.752209</td>\n",
       "      <td>0</td>\n",
       "      <td>0</td>\n",
       "      <td>0</td>\n",
       "    </tr>\n",
       "    <tr>\n",
       "      <th>1</th>\n",
       "      <td>EPI22_027_030739</td>\n",
       "      <td>2</td>\n",
       "      <td>47</td>\n",
       "      <td>110.0</td>\n",
       "      <td>21.45</td>\n",
       "      <td>13.2</td>\n",
       "      <td>4.4</td>\n",
       "      <td>176</td>\n",
       "      <td>90.823548</td>\n",
       "      <td>0</td>\n",
       "      <td>0</td>\n",
       "      <td>0</td>\n",
       "    </tr>\n",
       "    <tr>\n",
       "      <th>2</th>\n",
       "      <td>EPI22_027_175154</td>\n",
       "      <td>2</td>\n",
       "      <td>45</td>\n",
       "      <td>108.0</td>\n",
       "      <td>19.55</td>\n",
       "      <td>11.8</td>\n",
       "      <td>4.0</td>\n",
       "      <td>163</td>\n",
       "      <td>79.883404</td>\n",
       "      <td>0</td>\n",
       "      <td>0</td>\n",
       "      <td>0</td>\n",
       "    </tr>\n",
       "    <tr>\n",
       "      <th>3</th>\n",
       "      <td>EPI22_027_047976</td>\n",
       "      <td>2</td>\n",
       "      <td>52</td>\n",
       "      <td>124.5</td>\n",
       "      <td>20.85</td>\n",
       "      <td>13.0</td>\n",
       "      <td>4.8</td>\n",
       "      <td>204</td>\n",
       "      <td>87.075094</td>\n",
       "      <td>0</td>\n",
       "      <td>0</td>\n",
       "      <td>0</td>\n",
       "    </tr>\n",
       "    <tr>\n",
       "      <th>4</th>\n",
       "      <td>EPI22_027_204760</td>\n",
       "      <td>2</td>\n",
       "      <td>50</td>\n",
       "      <td>109.0</td>\n",
       "      <td>24.41</td>\n",
       "      <td>12.1</td>\n",
       "      <td>4.3</td>\n",
       "      <td>193</td>\n",
       "      <td>111.591565</td>\n",
       "      <td>0</td>\n",
       "      <td>0</td>\n",
       "      <td>0</td>\n",
       "    </tr>\n",
       "    <tr>\n",
       "      <th>...</th>\n",
       "      <td>...</td>\n",
       "      <td>...</td>\n",
       "      <td>...</td>\n",
       "      <td>...</td>\n",
       "      <td>...</td>\n",
       "      <td>...</td>\n",
       "      <td>...</td>\n",
       "      <td>...</td>\n",
       "      <td>...</td>\n",
       "      <td>...</td>\n",
       "      <td>...</td>\n",
       "      <td>...</td>\n",
       "    </tr>\n",
       "    <tr>\n",
       "      <th>57226</th>\n",
       "      <td>EPI22_027_193555</td>\n",
       "      <td>2</td>\n",
       "      <td>42</td>\n",
       "      <td>147.0</td>\n",
       "      <td>22.26</td>\n",
       "      <td>15.6</td>\n",
       "      <td>4.7</td>\n",
       "      <td>212</td>\n",
       "      <td>102.025210</td>\n",
       "      <td>1</td>\n",
       "      <td>0</td>\n",
       "      <td>0</td>\n",
       "    </tr>\n",
       "    <tr>\n",
       "      <th>57227</th>\n",
       "      <td>EPI22_027_031104</td>\n",
       "      <td>1</td>\n",
       "      <td>50</td>\n",
       "      <td>125.0</td>\n",
       "      <td>24.97</td>\n",
       "      <td>15.1</td>\n",
       "      <td>4.8</td>\n",
       "      <td>179</td>\n",
       "      <td>103.538357</td>\n",
       "      <td>0</td>\n",
       "      <td>0</td>\n",
       "      <td>0</td>\n",
       "    </tr>\n",
       "    <tr>\n",
       "      <th>57228</th>\n",
       "      <td>EPI22_027_048836</td>\n",
       "      <td>2</td>\n",
       "      <td>41</td>\n",
       "      <td>110.0</td>\n",
       "      <td>20.69</td>\n",
       "      <td>14.6</td>\n",
       "      <td>4.3</td>\n",
       "      <td>175</td>\n",
       "      <td>108.834177</td>\n",
       "      <td>0</td>\n",
       "      <td>0</td>\n",
       "      <td>0</td>\n",
       "    </tr>\n",
       "    <tr>\n",
       "      <th>57229</th>\n",
       "      <td>EPI22_027_123427</td>\n",
       "      <td>2</td>\n",
       "      <td>66</td>\n",
       "      <td>126.0</td>\n",
       "      <td>22.93</td>\n",
       "      <td>11.9</td>\n",
       "      <td>5.0</td>\n",
       "      <td>190</td>\n",
       "      <td>90.573649</td>\n",
       "      <td>0</td>\n",
       "      <td>0</td>\n",
       "      <td>0</td>\n",
       "    </tr>\n",
       "    <tr>\n",
       "      <th>57230</th>\n",
       "      <td>EPI22_027_022952</td>\n",
       "      <td>2</td>\n",
       "      <td>65</td>\n",
       "      <td>130.0</td>\n",
       "      <td>23.61</td>\n",
       "      <td>13.0</td>\n",
       "      <td>4.3</td>\n",
       "      <td>202</td>\n",
       "      <td>78.919338</td>\n",
       "      <td>0</td>\n",
       "      <td>0</td>\n",
       "      <td>0</td>\n",
       "    </tr>\n",
       "  </tbody>\n",
       "</table>\n",
       "<p>57231 rows × 12 columns</p>\n",
       "</div>"
      ],
      "text/plain": [
       "                    RID  CT1_SEX  CT1_AGE  CT1_SBP  CT1_BMI  CT1_HB  \\\n",
       "0      EPI22_027_142944        2       43    119.0    24.06    13.1   \n",
       "1      EPI22_027_030739        2       47    110.0    21.45    13.2   \n",
       "2      EPI22_027_175154        2       45    108.0    19.55    11.8   \n",
       "3      EPI22_027_047976        2       52    124.5    20.85    13.0   \n",
       "4      EPI22_027_204760        2       50    109.0    24.41    12.1   \n",
       "...                 ...      ...      ...      ...      ...     ...   \n",
       "57226  EPI22_027_193555        2       42    147.0    22.26    15.6   \n",
       "57227  EPI22_027_031104        1       50    125.0    24.97    15.1   \n",
       "57228  EPI22_027_048836        2       41    110.0    20.69    14.6   \n",
       "57229  EPI22_027_123427        2       66    126.0    22.93    11.9   \n",
       "57230  EPI22_027_022952        2       65    130.0    23.61    13.0   \n",
       "\n",
       "       CT1_ALBUMIN  CT1_TCHL    CT1_eGFR  new_gohyeol  new_dangnyo  \\\n",
       "0              4.6       203  110.752209            0            0   \n",
       "1              4.4       176   90.823548            0            0   \n",
       "2              4.0       163   79.883404            0            0   \n",
       "3              4.8       204   87.075094            0            0   \n",
       "4              4.3       193  111.591565            0            0   \n",
       "...            ...       ...         ...          ...          ...   \n",
       "57226          4.7       212  102.025210            1            0   \n",
       "57227          4.8       179  103.538357            0            0   \n",
       "57228          4.3       175  108.834177            0            0   \n",
       "57229          5.0       190   90.573649            0            0   \n",
       "57230          4.3       202   78.919338            0            0   \n",
       "\n",
       "       new_simhyeol  \n",
       "0                 0  \n",
       "1                 0  \n",
       "2                 0  \n",
       "3                 0  \n",
       "4                 0  \n",
       "...             ...  \n",
       "57226             0  \n",
       "57227             0  \n",
       "57228             0  \n",
       "57229             0  \n",
       "57230             0  \n",
       "\n",
       "[57231 rows x 12 columns]"
      ]
     },
     "execution_count": 170,
     "metadata": {},
     "output_type": "execute_result"
    }
   ],
   "source": [
    "temp_basic"
   ]
  },
  {
   "cell_type": "code",
   "execution_count": 171,
   "metadata": {},
   "outputs": [
    {
     "name": "stdout",
     "output_type": "stream",
     "text": [
      "RID 0 0 0 0\n",
      "CT1_SEX 0 0 0 0\n",
      "CT1_AGE 0 0 0 0\n",
      "CT1_SBP 0 0 82 0\n",
      "CT1_BMI 0 0 18 0\n",
      "CT1_HB 0 0 0 0\n",
      "CT1_ALBUMIN 0 0 1 0\n",
      "CT1_TCHL 0 0 0 0\n",
      "CT1_eGFR 0 0 0 0\n",
      "new_gohyeol 0 0 0 0\n",
      "new_dangnyo 0 0 0 0\n",
      "new_simhyeol 0 0 0 0\n"
     ]
    }
   ],
   "source": [
    "missing_check(temp_basic)"
   ]
  },
  {
   "cell_type": "markdown",
   "metadata": {},
   "source": [
    "# basic feature (Drink, Smoke, Edu, Income) Raw data 가져와서 RID 확인 및 그룹핑"
   ]
  },
  {
   "cell_type": "code",
   "execution_count": 172,
   "metadata": {},
   "outputs": [
    {
     "name": "stderr",
     "output_type": "stream",
     "text": [
      "/tmp/ipykernel_1917935/2366734780.py:1: DtypeWarning: Columns (6) have mixed types. Specify dtype option on import or set low_memory=False.\n",
      "  temp_eduincome = pd.read_csv(\"/home/user19/pnu_ckd/HEXA/HEXA_1/ct1_07_gen.csv\")\n",
      "/tmp/ipykernel_1917935/2366734780.py:2: DtypeWarning: Columns (71) have mixed types. Specify dtype option on import or set low_memory=False.\n",
      "  temp_drinksmoke = pd.read_csv(\"/home/user19/pnu_ckd/HEXA/HEXA_1/ct1_08_habit1.csv\")\n"
     ]
    }
   ],
   "source": [
    "temp_eduincome = pd.read_csv(\"/home/user19/pnu_ckd/HEXA/HEXA_1/ct1_07_gen.csv\")\n",
    "temp_drinksmoke = pd.read_csv(\"/home/user19/pnu_ckd/HEXA/HEXA_1/ct1_08_habit1.csv\")"
   ]
  },
  {
   "cell_type": "code",
   "execution_count": 173,
   "metadata": {},
   "outputs": [],
   "source": [
    "temp_eduincome = pd.merge(temp_eduincome[['RID', 'CT1_EDU', 'CT1_INCOME']], tight3[['RID']], on='RID', how='inner')\n",
    "temp_drinksmoke = pd.merge(temp_drinksmoke[['RID', 'CT1_SMOKE', 'CT1_SMOKE_100', 'CT1_DRINK']], tight3[['RID']], on='RID', how='inner')"
   ]
  },
  {
   "cell_type": "markdown",
   "metadata": {},
   "source": [
    "### Drink Smoke 전처리"
   ]
  },
  {
   "cell_type": "code",
   "execution_count": 174,
   "metadata": {},
   "outputs": [
    {
     "name": "stdout",
     "output_type": "stream",
     "text": [
      "RID 0 0 0 0\n",
      "CT1_SMOKE 35633 0 116 0\n",
      "CT1_SMOKE_100 21598 0 115 0\n",
      "CT1_DRINK 0 0 250 0\n",
      "RID 0 0 0 0\n",
      "CT1_SMOKE 0 0 35749 0\n",
      "CT1_SMOKE_100 0 0 21713 0\n",
      "CT1_DRINK 0 0 250 0\n"
     ]
    }
   ],
   "source": [
    "missing_check(temp_drinksmoke)\n",
    "temp_drinksmoke.replace(66666, 99999, inplace=True)\n",
    "missing_check(temp_drinksmoke)"
   ]
  },
  {
   "cell_type": "code",
   "execution_count": 175,
   "metadata": {},
   "outputs": [],
   "source": [
    "# Drink 원래 변수 : 1 = 예, 2 = 아니오(과거음주), 3 = 아니오(현재음주)\n",
    "temp_drinksmoke['new_DRINK'] = temp_drinksmoke['CT1_DRINK'].apply(lambda x: 1 if x == 3 else (0 if 1 <= x <= 2  else 99999))\n",
    "temp_drinksmoke.drop(['CT1_DRINK'], axis=1, inplace=True)"
   ]
  },
  {
   "cell_type": "code",
   "execution_count": 176,
   "metadata": {},
   "outputs": [
    {
     "data": {
      "text/plain": [
       "new_DRINK\n",
       "0        31948\n",
       "1        25033\n",
       "99999      250\n",
       "Name: count, dtype: int64"
      ]
     },
     "execution_count": 176,
     "metadata": {},
     "output_type": "execute_result"
    }
   ],
   "source": [
    "temp_drinksmoke['new_DRINK'].value_counts()"
   ]
  },
  {
   "cell_type": "code",
   "execution_count": 177,
   "metadata": {},
   "outputs": [
    {
     "data": {
      "text/plain": [
       "new_SMOKE\n",
       " 0    42263\n",
       " 1     8858\n",
       " 2     5879\n",
       "-2      231\n",
       "Name: count, dtype: int64"
      ]
     },
     "execution_count": 177,
     "metadata": {},
     "output_type": "execute_result"
    }
   ],
   "source": [
    "# Smooke\n",
    "\n",
    "temp_drinksmoke.loc[temp_drinksmoke['CT1_SMOKE'] == 99999, 'CT1_SMOKE'] = -1\n",
    "temp_drinksmoke.loc[temp_drinksmoke['CT1_SMOKE_100'] == 99999, 'CT1_SMOKE_100'] = -1\n",
    "\n",
    "temp_drinksmoke['new_SMOKE'] = temp_drinksmoke.apply(lambda row: max(row['CT1_SMOKE'], row['CT1_SMOKE_100']) - 1, axis=1)\n",
    "\n",
    "temp_drinksmoke['new_SMOKE'].value_counts()"
   ]
  },
  {
   "cell_type": "code",
   "execution_count": 178,
   "metadata": {},
   "outputs": [],
   "source": [
    "temp_drinksmoke.loc[temp_drinksmoke['new_SMOKE'] == -2, 'new_SMOKE'] = 99999"
   ]
  },
  {
   "cell_type": "code",
   "execution_count": 179,
   "metadata": {},
   "outputs": [
    {
     "data": {
      "text/plain": [
       "new_SMOKE\n",
       "0        42263\n",
       "1         8858\n",
       "2         5879\n",
       "99999      231\n",
       "Name: count, dtype: int64"
      ]
     },
     "execution_count": 179,
     "metadata": {},
     "output_type": "execute_result"
    }
   ],
   "source": [
    "temp_drinksmoke['new_SMOKE'].value_counts()"
   ]
  },
  {
   "cell_type": "code",
   "execution_count": 180,
   "metadata": {},
   "outputs": [],
   "source": [
    "temp_drinksmoke.drop(['CT1_SMOKE', 'CT1_SMOKE_100'], axis=1, inplace=True)"
   ]
  },
  {
   "cell_type": "code",
   "execution_count": 181,
   "metadata": {},
   "outputs": [
    {
     "data": {
      "text/plain": [
       "Index(['RID', 'new_DRINK', 'new_SMOKE'], dtype='object')"
      ]
     },
     "execution_count": 181,
     "metadata": {},
     "output_type": "execute_result"
    }
   ],
   "source": [
    "temp_drinksmoke.columns"
   ]
  },
  {
   "cell_type": "markdown",
   "metadata": {},
   "source": [
    "### EDU Income 전처리"
   ]
  },
  {
   "cell_type": "code",
   "execution_count": 182,
   "metadata": {},
   "outputs": [
    {
     "name": "stdout",
     "output_type": "stream",
     "text": [
      "RID 0 0 0 0\n",
      "CT1_EDU 0 0 620 0\n",
      "CT1_INCOME 1378 0 4356 0\n",
      "RID 0 0 0 0\n",
      "CT1_EDU 0 0 620 0\n",
      "CT1_INCOME 0 0 5734 0\n"
     ]
    }
   ],
   "source": [
    "missing_check(temp_eduincome)\n",
    "temp_eduincome.replace(66666, 99999, inplace=True)\n",
    "missing_check(temp_eduincome)"
   ]
  },
  {
   "cell_type": "code",
   "execution_count": 183,
   "metadata": {},
   "outputs": [
    {
     "data": {
      "text/plain": [
       "Index(['RID', 'CT1_EDU', 'CT1_INCOME'], dtype='object')"
      ]
     },
     "execution_count": 183,
     "metadata": {},
     "output_type": "execute_result"
    }
   ],
   "source": [
    "temp_eduincome.columns"
   ]
  },
  {
   "cell_type": "code",
   "execution_count": 184,
   "metadata": {},
   "outputs": [],
   "source": [
    "# EDU \n",
    "temp_eduincome['new_EDU'] = temp_eduincome['CT1_EDU'].apply(lambda x: 1 if 0 <= x <= 3 else (2 if  x == 4  else (3 if 5 <= x <= 8 else 99999)))\n",
    "temp_eduincome.drop(['CT1_EDU'], axis=1, inplace=True)"
   ]
  },
  {
   "cell_type": "code",
   "execution_count": 185,
   "metadata": {},
   "outputs": [],
   "source": [
    "# Income\n",
    "temp_eduincome['new_INCOME'] = temp_eduincome['CT1_INCOME'].apply(lambda x: 1 if 1 <= x <= 3 else (2 if 4 <= x <= 6  else (3 if 7 <= x <= 8 else 99999)))\n",
    "temp_eduincome.drop(['CT1_INCOME'], axis=1, inplace=True)"
   ]
  },
  {
   "cell_type": "code",
   "execution_count": 186,
   "metadata": {},
   "outputs": [
    {
     "data": {
      "text/plain": [
       "Index(['RID', 'new_EDU', 'new_INCOME'], dtype='object')"
      ]
     },
     "execution_count": 186,
     "metadata": {},
     "output_type": "execute_result"
    }
   ],
   "source": [
    "temp_eduincome.columns"
   ]
  },
  {
   "cell_type": "code",
   "execution_count": 187,
   "metadata": {},
   "outputs": [],
   "source": [
    "temp_eduincomedrinksmoke = pd.merge(temp_eduincome, temp_drinksmoke, on='RID', how='inner')"
   ]
  },
  {
   "cell_type": "code",
   "execution_count": 188,
   "metadata": {},
   "outputs": [
    {
     "name": "stdout",
     "output_type": "stream",
     "text": [
      "RID 0 0 0 0\n",
      "new_EDU 0 0 620 0\n",
      "new_INCOME 0 0 5734 0\n",
      "new_DRINK 0 0 250 0\n",
      "new_SMOKE 0 0 231 0\n",
      "RID 0 0 0 0\n",
      "new_EDU 0 0 0 620\n",
      "new_INCOME 0 0 0 5734\n",
      "new_DRINK 0 0 0 250\n",
      "new_SMOKE 0 0 0 231\n"
     ]
    }
   ],
   "source": [
    "import numpy as np\n",
    "missing_check(temp_eduincomedrinksmoke)\n",
    "temp_eduincomedrinksmoke.replace(99999, np.NaN, inplace=True)\n",
    "missing_check(temp_eduincomedrinksmoke)"
   ]
  },
  {
   "cell_type": "markdown",
   "metadata": {},
   "source": [
    "### Edu, Income, Drink, Smoke imputation"
   ]
  },
  {
   "cell_type": "code",
   "execution_count": 189,
   "metadata": {},
   "outputs": [
    {
     "data": {
      "text/plain": [
       "new_INCOME\n",
       "2.0    28444\n",
       "3.0    13304\n",
       "1.0     9749\n",
       "Name: count, dtype: int64"
      ]
     },
     "execution_count": 189,
     "metadata": {},
     "output_type": "execute_result"
    }
   ],
   "source": [
    "temp_eduincomedrinksmoke['new_SMOKE'].value_counts()\n",
    "temp_eduincomedrinksmoke['new_DRINK'].value_counts()\n",
    "temp_eduincomedrinksmoke['new_EDU'].value_counts()\n",
    "temp_eduincomedrinksmoke['new_INCOME'].value_counts()"
   ]
  },
  {
   "cell_type": "code",
   "execution_count": 190,
   "metadata": {},
   "outputs": [
    {
     "name": "stdout",
     "output_type": "stream",
     "text": [
      "new_EDU is preprocessing...\n",
      "new_EDU processing done!!!\n",
      "==============================\n",
      "new_INCOME is preprocessing...\n",
      "new_INCOME processing done!!!\n",
      "==============================\n",
      "new_DRINK is preprocessing...\n",
      "new_DRINK processing done!!!\n",
      "==============================\n",
      "new_SMOKE is preprocessing...\n",
      "new_SMOKE processing done!!!\n",
      "==============================\n"
     ]
    }
   ],
   "source": [
    "temp_eduincomedrinksmoke, _ = impute(temp_eduincomedrinksmoke)"
   ]
  },
  {
   "cell_type": "code",
   "execution_count": 191,
   "metadata": {},
   "outputs": [],
   "source": [
    "# Edu : 1~3\n",
    "# Income : 1~3\n",
    "# Drink : 0~1\n",
    "# Smoke : 0~2\n",
    "temp_eduincomedrinksmoke['new_INCOME'] = temp_eduincomedrinksmoke['new_INCOME'].clip(1, 3)\n",
    "temp_eduincomedrinksmoke['new_EDU'] = temp_eduincomedrinksmoke['new_EDU'].clip(1, 3)\n",
    "temp_eduincomedrinksmoke['new_DRINK'] = temp_eduincomedrinksmoke['new_DRINK'].clip(0, 1)\n",
    "temp_eduincomedrinksmoke['new_SMOKE'] = temp_eduincomedrinksmoke['new_SMOKE'].clip(0, 2)"
   ]
  },
  {
   "cell_type": "code",
   "execution_count": 192,
   "metadata": {},
   "outputs": [
    {
     "name": "stdout",
     "output_type": "stream",
     "text": [
      "new_SMOKE\n",
      "0.0    42436\n",
      "1.0     8913\n",
      "2.0     5882\n",
      "Name: count, dtype: int64 57231\n",
      "new_DRINK\n",
      "0.0    32124\n",
      "1.0    25107\n",
      "Name: count, dtype: int64 57231\n",
      "new_EDU\n",
      "2.0    21653\n",
      "3.0    17816\n",
      "1.0    17762\n",
      "Name: count, dtype: int64 57231\n",
      "new_INCOME\n",
      "2.0    31827\n",
      "3.0    13977\n",
      "1.0    11427\n",
      "Name: count, dtype: int64 57231\n"
     ]
    }
   ],
   "source": [
    "print(temp_eduincomedrinksmoke['new_SMOKE'].value_counts(), temp_eduincomedrinksmoke['new_SMOKE'].value_counts().sum())\n",
    "print(temp_eduincomedrinksmoke['new_DRINK'].value_counts(), temp_eduincomedrinksmoke['new_DRINK'].value_counts().sum())\n",
    "print(temp_eduincomedrinksmoke['new_EDU'].value_counts(), temp_eduincomedrinksmoke['new_EDU'].value_counts().sum())\n",
    "print(temp_eduincomedrinksmoke['new_INCOME'].value_counts(), temp_eduincomedrinksmoke['new_INCOME'].value_counts().sum())"
   ]
  },
  {
   "cell_type": "markdown",
   "metadata": {},
   "source": [
    "# temp_basic에 변경된 edu, income, drink, smoke 넣기."
   ]
  },
  {
   "cell_type": "code",
   "execution_count": 193,
   "metadata": {},
   "outputs": [
    {
     "data": {
      "text/html": [
       "<div>\n",
       "<style scoped>\n",
       "    .dataframe tbody tr th:only-of-type {\n",
       "        vertical-align: middle;\n",
       "    }\n",
       "\n",
       "    .dataframe tbody tr th {\n",
       "        vertical-align: top;\n",
       "    }\n",
       "\n",
       "    .dataframe thead th {\n",
       "        text-align: right;\n",
       "    }\n",
       "</style>\n",
       "<table border=\"1\" class=\"dataframe\">\n",
       "  <thead>\n",
       "    <tr style=\"text-align: right;\">\n",
       "      <th></th>\n",
       "      <th>RID</th>\n",
       "      <th>CT1_SEX</th>\n",
       "      <th>CT1_AGE</th>\n",
       "      <th>CT1_SBP</th>\n",
       "      <th>CT1_BMI</th>\n",
       "      <th>CT1_HB</th>\n",
       "      <th>CT1_ALBUMIN</th>\n",
       "      <th>CT1_TCHL</th>\n",
       "      <th>CT1_eGFR</th>\n",
       "      <th>new_gohyeol</th>\n",
       "      <th>new_dangnyo</th>\n",
       "      <th>new_simhyeol</th>\n",
       "    </tr>\n",
       "  </thead>\n",
       "  <tbody>\n",
       "    <tr>\n",
       "      <th>0</th>\n",
       "      <td>EPI22_027_142944</td>\n",
       "      <td>2</td>\n",
       "      <td>43</td>\n",
       "      <td>119.0</td>\n",
       "      <td>24.06</td>\n",
       "      <td>13.1</td>\n",
       "      <td>4.6</td>\n",
       "      <td>203</td>\n",
       "      <td>110.752209</td>\n",
       "      <td>0</td>\n",
       "      <td>0</td>\n",
       "      <td>0</td>\n",
       "    </tr>\n",
       "    <tr>\n",
       "      <th>1</th>\n",
       "      <td>EPI22_027_030739</td>\n",
       "      <td>2</td>\n",
       "      <td>47</td>\n",
       "      <td>110.0</td>\n",
       "      <td>21.45</td>\n",
       "      <td>13.2</td>\n",
       "      <td>4.4</td>\n",
       "      <td>176</td>\n",
       "      <td>90.823548</td>\n",
       "      <td>0</td>\n",
       "      <td>0</td>\n",
       "      <td>0</td>\n",
       "    </tr>\n",
       "    <tr>\n",
       "      <th>2</th>\n",
       "      <td>EPI22_027_175154</td>\n",
       "      <td>2</td>\n",
       "      <td>45</td>\n",
       "      <td>108.0</td>\n",
       "      <td>19.55</td>\n",
       "      <td>11.8</td>\n",
       "      <td>4.0</td>\n",
       "      <td>163</td>\n",
       "      <td>79.883404</td>\n",
       "      <td>0</td>\n",
       "      <td>0</td>\n",
       "      <td>0</td>\n",
       "    </tr>\n",
       "    <tr>\n",
       "      <th>3</th>\n",
       "      <td>EPI22_027_047976</td>\n",
       "      <td>2</td>\n",
       "      <td>52</td>\n",
       "      <td>124.5</td>\n",
       "      <td>20.85</td>\n",
       "      <td>13.0</td>\n",
       "      <td>4.8</td>\n",
       "      <td>204</td>\n",
       "      <td>87.075094</td>\n",
       "      <td>0</td>\n",
       "      <td>0</td>\n",
       "      <td>0</td>\n",
       "    </tr>\n",
       "    <tr>\n",
       "      <th>4</th>\n",
       "      <td>EPI22_027_204760</td>\n",
       "      <td>2</td>\n",
       "      <td>50</td>\n",
       "      <td>109.0</td>\n",
       "      <td>24.41</td>\n",
       "      <td>12.1</td>\n",
       "      <td>4.3</td>\n",
       "      <td>193</td>\n",
       "      <td>111.591565</td>\n",
       "      <td>0</td>\n",
       "      <td>0</td>\n",
       "      <td>0</td>\n",
       "    </tr>\n",
       "    <tr>\n",
       "      <th>...</th>\n",
       "      <td>...</td>\n",
       "      <td>...</td>\n",
       "      <td>...</td>\n",
       "      <td>...</td>\n",
       "      <td>...</td>\n",
       "      <td>...</td>\n",
       "      <td>...</td>\n",
       "      <td>...</td>\n",
       "      <td>...</td>\n",
       "      <td>...</td>\n",
       "      <td>...</td>\n",
       "      <td>...</td>\n",
       "    </tr>\n",
       "    <tr>\n",
       "      <th>57226</th>\n",
       "      <td>EPI22_027_193555</td>\n",
       "      <td>2</td>\n",
       "      <td>42</td>\n",
       "      <td>147.0</td>\n",
       "      <td>22.26</td>\n",
       "      <td>15.6</td>\n",
       "      <td>4.7</td>\n",
       "      <td>212</td>\n",
       "      <td>102.025210</td>\n",
       "      <td>1</td>\n",
       "      <td>0</td>\n",
       "      <td>0</td>\n",
       "    </tr>\n",
       "    <tr>\n",
       "      <th>57227</th>\n",
       "      <td>EPI22_027_031104</td>\n",
       "      <td>1</td>\n",
       "      <td>50</td>\n",
       "      <td>125.0</td>\n",
       "      <td>24.97</td>\n",
       "      <td>15.1</td>\n",
       "      <td>4.8</td>\n",
       "      <td>179</td>\n",
       "      <td>103.538357</td>\n",
       "      <td>0</td>\n",
       "      <td>0</td>\n",
       "      <td>0</td>\n",
       "    </tr>\n",
       "    <tr>\n",
       "      <th>57228</th>\n",
       "      <td>EPI22_027_048836</td>\n",
       "      <td>2</td>\n",
       "      <td>41</td>\n",
       "      <td>110.0</td>\n",
       "      <td>20.69</td>\n",
       "      <td>14.6</td>\n",
       "      <td>4.3</td>\n",
       "      <td>175</td>\n",
       "      <td>108.834177</td>\n",
       "      <td>0</td>\n",
       "      <td>0</td>\n",
       "      <td>0</td>\n",
       "    </tr>\n",
       "    <tr>\n",
       "      <th>57229</th>\n",
       "      <td>EPI22_027_123427</td>\n",
       "      <td>2</td>\n",
       "      <td>66</td>\n",
       "      <td>126.0</td>\n",
       "      <td>22.93</td>\n",
       "      <td>11.9</td>\n",
       "      <td>5.0</td>\n",
       "      <td>190</td>\n",
       "      <td>90.573649</td>\n",
       "      <td>0</td>\n",
       "      <td>0</td>\n",
       "      <td>0</td>\n",
       "    </tr>\n",
       "    <tr>\n",
       "      <th>57230</th>\n",
       "      <td>EPI22_027_022952</td>\n",
       "      <td>2</td>\n",
       "      <td>65</td>\n",
       "      <td>130.0</td>\n",
       "      <td>23.61</td>\n",
       "      <td>13.0</td>\n",
       "      <td>4.3</td>\n",
       "      <td>202</td>\n",
       "      <td>78.919338</td>\n",
       "      <td>0</td>\n",
       "      <td>0</td>\n",
       "      <td>0</td>\n",
       "    </tr>\n",
       "  </tbody>\n",
       "</table>\n",
       "<p>57231 rows × 12 columns</p>\n",
       "</div>"
      ],
      "text/plain": [
       "                    RID  CT1_SEX  CT1_AGE  CT1_SBP  CT1_BMI  CT1_HB  \\\n",
       "0      EPI22_027_142944        2       43    119.0    24.06    13.1   \n",
       "1      EPI22_027_030739        2       47    110.0    21.45    13.2   \n",
       "2      EPI22_027_175154        2       45    108.0    19.55    11.8   \n",
       "3      EPI22_027_047976        2       52    124.5    20.85    13.0   \n",
       "4      EPI22_027_204760        2       50    109.0    24.41    12.1   \n",
       "...                 ...      ...      ...      ...      ...     ...   \n",
       "57226  EPI22_027_193555        2       42    147.0    22.26    15.6   \n",
       "57227  EPI22_027_031104        1       50    125.0    24.97    15.1   \n",
       "57228  EPI22_027_048836        2       41    110.0    20.69    14.6   \n",
       "57229  EPI22_027_123427        2       66    126.0    22.93    11.9   \n",
       "57230  EPI22_027_022952        2       65    130.0    23.61    13.0   \n",
       "\n",
       "       CT1_ALBUMIN  CT1_TCHL    CT1_eGFR  new_gohyeol  new_dangnyo  \\\n",
       "0              4.6       203  110.752209            0            0   \n",
       "1              4.4       176   90.823548            0            0   \n",
       "2              4.0       163   79.883404            0            0   \n",
       "3              4.8       204   87.075094            0            0   \n",
       "4              4.3       193  111.591565            0            0   \n",
       "...            ...       ...         ...          ...          ...   \n",
       "57226          4.7       212  102.025210            1            0   \n",
       "57227          4.8       179  103.538357            0            0   \n",
       "57228          4.3       175  108.834177            0            0   \n",
       "57229          5.0       190   90.573649            0            0   \n",
       "57230          4.3       202   78.919338            0            0   \n",
       "\n",
       "       new_simhyeol  \n",
       "0                 0  \n",
       "1                 0  \n",
       "2                 0  \n",
       "3                 0  \n",
       "4                 0  \n",
       "...             ...  \n",
       "57226             0  \n",
       "57227             0  \n",
       "57228             0  \n",
       "57229             0  \n",
       "57230             0  \n",
       "\n",
       "[57231 rows x 12 columns]"
      ]
     },
     "execution_count": 193,
     "metadata": {},
     "output_type": "execute_result"
    }
   ],
   "source": [
    "temp_basic"
   ]
  },
  {
   "cell_type": "code",
   "execution_count": 194,
   "metadata": {},
   "outputs": [
    {
     "data": {
      "text/plain": [
       "Index(['RID', 'CT1_SEX', 'CT1_AGE', 'CT1_SBP', 'CT1_BMI', 'CT1_HB',\n",
       "       'CT1_ALBUMIN', 'CT1_TCHL', 'CT1_eGFR', 'new_gohyeol', 'new_dangnyo',\n",
       "       'new_simhyeol'],\n",
       "      dtype='object')"
      ]
     },
     "execution_count": 194,
     "metadata": {},
     "output_type": "execute_result"
    }
   ],
   "source": [
    "temp_basic.columns"
   ]
  },
  {
   "cell_type": "code",
   "execution_count": 195,
   "metadata": {},
   "outputs": [],
   "source": [
    "# (57231, 16)\n",
    "temp_basic = pd.merge(temp_basic, temp_eduincomedrinksmoke, on='RID', how='inner')\n",
    "temp_basic = pd.merge(temp_basic, tight3[['RID', 'onset']], on='RID', how='inner')"
   ]
  },
  {
   "cell_type": "code",
   "execution_count": 196,
   "metadata": {},
   "outputs": [],
   "source": [
    "temp_basic.columns = temp_basic.columns.str.replace('CT1', 'new')"
   ]
  },
  {
   "cell_type": "code",
   "execution_count": 197,
   "metadata": {},
   "outputs": [
    {
     "data": {
      "text/plain": [
       "Index(['RID', 'new_SEX', 'new_AGE', 'new_SBP', 'new_BMI', 'new_HB',\n",
       "       'new_ALBUMIN', 'new_TCHL', 'new_eGFR', 'new_gohyeol', 'new_dangnyo',\n",
       "       'new_simhyeol', 'new_EDU', 'new_INCOME', 'new_DRINK', 'new_SMOKE',\n",
       "       'onset'],\n",
       "      dtype='object')"
      ]
     },
     "execution_count": 197,
     "metadata": {},
     "output_type": "execute_result"
    }
   ],
   "source": [
    "temp_basic.columns"
   ]
  },
  {
   "cell_type": "code",
   "execution_count": 198,
   "metadata": {},
   "outputs": [],
   "source": [
    "# reorder the columns\n",
    "temp_basic = temp_basic[['RID', 'new_SEX', 'new_AGE', 'new_eGFR', 'new_SBP', 'new_BMI', 'new_HB',\n",
    "       'new_ALBUMIN', 'new_TCHL', 'new_EDU', 'new_INCOME', 'new_DRINK',\n",
    "       'new_SMOKE', 'new_gohyeol', 'new_dangnyo', 'new_simhyeol',\n",
    "       'onset']]"
   ]
  },
  {
   "cell_type": "code",
   "execution_count": 199,
   "metadata": {},
   "outputs": [
    {
     "data": {
      "text/plain": [
       "Index(['RID', 'new_SEX', 'new_AGE', 'new_eGFR', 'new_SBP', 'new_BMI', 'new_HB',\n",
       "       'new_ALBUMIN', 'new_TCHL', 'new_EDU', 'new_INCOME', 'new_DRINK',\n",
       "       'new_SMOKE', 'new_gohyeol', 'new_dangnyo', 'new_simhyeol', 'onset'],\n",
       "      dtype='object')"
      ]
     },
     "execution_count": 199,
     "metadata": {},
     "output_type": "execute_result"
    }
   ],
   "source": [
    "# edu, income, drink, smoke 모두 다시 전처리 됨.\n",
    "# food grouping 은 sweet를 포함한 summation grouping.\n",
    "temp_basic.columns"
   ]
  },
  {
   "cell_type": "code",
   "execution_count": 200,
   "metadata": {},
   "outputs": [
    {
     "name": "stdout",
     "output_type": "stream",
     "text": [
      "RID 0 0 0 0\n",
      "new_SEX 0 0 0 0\n",
      "new_AGE 0 0 0 0\n",
      "new_eGFR 0 0 0 0\n",
      "new_SBP 0 0 82 0\n",
      "new_BMI 0 0 18 0\n",
      "new_HB 0 0 0 0\n",
      "new_ALBUMIN 0 0 1 0\n",
      "new_TCHL 0 0 0 0\n",
      "new_EDU 0 0 0 0\n",
      "new_INCOME 0 0 0 0\n",
      "new_DRINK 0 0 0 0\n",
      "new_SMOKE 0 0 0 0\n",
      "new_gohyeol 0 0 0 0\n",
      "new_dangnyo 0 0 0 0\n",
      "new_simhyeol 0 0 0 0\n",
      "onset 0 0 0 0\n"
     ]
    }
   ],
   "source": [
    "missing_check(temp_basic)"
   ]
  },
  {
   "cell_type": "code",
   "execution_count": 201,
   "metadata": {},
   "outputs": [
    {
     "data": {
      "text/plain": [
       "Index(['RID', 'new_SEX', 'new_AGE', 'new_eGFR', 'new_SBP', 'new_BMI', 'new_HB',\n",
       "       'new_ALBUMIN', 'new_TCHL', 'new_EDU', 'new_INCOME', 'new_DRINK',\n",
       "       'new_SMOKE', 'new_gohyeol', 'new_dangnyo', 'new_simhyeol', 'onset'],\n",
       "      dtype='object')"
      ]
     },
     "execution_count": 201,
     "metadata": {},
     "output_type": "execute_result"
    }
   ],
   "source": [
    "temp_basic.columns"
   ]
  },
  {
   "cell_type": "code",
   "execution_count": 202,
   "metadata": {},
   "outputs": [
    {
     "name": "stdout",
     "output_type": "stream",
     "text": [
      "RID 0 0 0 0\n",
      "new_SEX 0 0 0 0\n",
      "new_AGE 0 0 0 0\n",
      "new_eGFR 0 0 0 0\n",
      "new_SBP 0 0 82 0\n",
      "new_BMI 0 0 18 0\n",
      "new_HB 0 0 0 0\n",
      "new_ALBUMIN 0 0 1 0\n",
      "new_TCHL 0 0 0 0\n",
      "new_EDU 0 0 0 0\n",
      "new_INCOME 0 0 0 0\n",
      "new_DRINK 0 0 0 0\n",
      "new_SMOKE 0 0 0 0\n",
      "new_gohyeol 0 0 0 0\n",
      "new_dangnyo 0 0 0 0\n",
      "new_simhyeol 0 0 0 0\n",
      "onset 0 0 0 0\n"
     ]
    }
   ],
   "source": [
    "missing_check(temp_basic)"
   ]
  },
  {
   "cell_type": "code",
   "execution_count": 203,
   "metadata": {},
   "outputs": [],
   "source": [
    "temp_basic.replace(99999, np.NaN, inplace=True)"
   ]
  },
  {
   "cell_type": "code",
   "execution_count": 204,
   "metadata": {},
   "outputs": [
    {
     "name": "stdout",
     "output_type": "stream",
     "text": [
      "new_SBP is preprocessing...\n",
      "new_SBP processing done!!!\n",
      "==============================\n",
      "new_BMI is preprocessing...\n",
      "new_BMI processing done!!!\n",
      "==============================\n",
      "new_ALBUMIN is preprocessing...\n",
      "new_ALBUMIN processing done!!!\n",
      "==============================\n"
     ]
    }
   ],
   "source": [
    "temp_basic_check, imputed_col_check = impute(temp_basic)"
   ]
  },
  {
   "cell_type": "markdown",
   "metadata": {},
   "source": [
    "##### 실제 사용하는 데이터랑 뭐가 맞는지 확인하는 거"
   ]
  },
  {
   "cell_type": "code",
   "execution_count": 208,
   "metadata": {},
   "outputs": [],
   "source": [
    "processed_data = pd.read_csv(\"/home/user19/pnu_ckd/hexa_preprocessing_after95/0911_dl_models/data/0922_data/0922_basic_only.csv\")"
   ]
  },
  {
   "cell_type": "code",
   "execution_count": 209,
   "metadata": {},
   "outputs": [
    {
     "data": {
      "text/plain": [
       "count    57231.000000\n",
       "mean        23.867840\n",
       "std          2.847613\n",
       "min         14.440000\n",
       "25%         21.910000\n",
       "50%         23.670000\n",
       "75%         25.580000\n",
       "max         46.970000\n",
       "Name: imp_CT1_BMI, dtype: float64"
      ]
     },
     "execution_count": 209,
     "metadata": {},
     "output_type": "execute_result"
    }
   ],
   "source": [
    "processed_data['imp_CT1_BMI'].describe()"
   ]
  },
  {
   "cell_type": "code",
   "execution_count": 213,
   "metadata": {},
   "outputs": [
    {
     "data": {
      "text/plain": [
       "count    57231.000000\n",
       "mean        23.867554\n",
       "std          2.861000\n",
       "min         14.000000\n",
       "25%         22.000000\n",
       "50%         24.000000\n",
       "75%         26.000000\n",
       "max         47.000000\n",
       "Name: new_BMI, dtype: float64"
      ]
     },
     "execution_count": 213,
     "metadata": {},
     "output_type": "execute_result"
    }
   ],
   "source": [
    "temp_basic_check['new_BMI'].describe()"
   ]
  },
  {
   "cell_type": "code",
   "execution_count": 210,
   "metadata": {},
   "outputs": [
    {
     "data": {
      "text/plain": [
       "count    57231.000000\n",
       "mean         4.627980\n",
       "std          0.257886\n",
       "min          3.000000\n",
       "25%          4.500000\n",
       "50%          4.600000\n",
       "75%          4.800000\n",
       "max          5.800000\n",
       "Name: Imp_CT1_ALBUMIN, dtype: float64"
      ]
     },
     "execution_count": 210,
     "metadata": {},
     "output_type": "execute_result"
    }
   ],
   "source": [
    "processed_data['Imp_CT1_ALBUMIN'].describe()"
   ]
  },
  {
   "cell_type": "code",
   "execution_count": 212,
   "metadata": {},
   "outputs": [
    {
     "data": {
      "text/plain": [
       "count    57231.000000\n",
       "mean         4.614335\n",
       "std          0.490333\n",
       "min          3.000000\n",
       "25%          4.000000\n",
       "50%          5.000000\n",
       "75%          5.000000\n",
       "max          6.000000\n",
       "Name: new_ALBUMIN, dtype: float64"
      ]
     },
     "execution_count": 212,
     "metadata": {},
     "output_type": "execute_result"
    }
   ],
   "source": [
    "temp_basic_check['new_ALBUMIN'].describe()"
   ]
  },
  {
   "cell_type": "code",
   "execution_count": 211,
   "metadata": {},
   "outputs": [
    {
     "data": {
      "text/plain": [
       "count    57231.000000\n",
       "mean       122.065679\n",
       "std         14.874370\n",
       "min         68.000000\n",
       "25%        110.000000\n",
       "50%        120.000000\n",
       "75%        131.000000\n",
       "max        215.000000\n",
       "Name: imp_CT1_SBP, dtype: float64"
      ]
     },
     "execution_count": 211,
     "metadata": {},
     "output_type": "execute_result"
    }
   ],
   "source": [
    "processed_data['imp_CT1_SBP'].describe()"
   ]
  },
  {
   "cell_type": "code",
   "execution_count": 214,
   "metadata": {},
   "outputs": [
    {
     "data": {
      "text/plain": [
       "count    57231.000000\n",
       "mean       122.061418\n",
       "std         14.873464\n",
       "min         68.000000\n",
       "25%        110.000000\n",
       "50%        120.000000\n",
       "75%        131.000000\n",
       "max        215.000000\n",
       "Name: new_SBP, dtype: float64"
      ]
     },
     "execution_count": 214,
     "metadata": {},
     "output_type": "execute_result"
    }
   ],
   "source": [
    "temp_basic_check['new_SBP'].describe()"
   ]
  },
  {
   "cell_type": "code",
   "execution_count": 216,
   "metadata": {},
   "outputs": [
    {
     "data": {
      "text/plain": [
       "Index(['RID', 'CT1_SEX', 'CT1_AGE', 'CT1_eGFR', 'imp_CT1_SBP', 'imp_CT1_BMI',\n",
       "       'CT1_HB', 'Imp_CT1_ALBUMIN', 'CT1_TCHL', 'imp_new_EDU',\n",
       "       'imp_new_INCOME', 'imp_new_DRINK', 'imp_new_SMOKE', 'new_CT1_gohyeol',\n",
       "       'CT1_dangnyo', 'CT1_simhyeol', 'onset_tight'],\n",
       "      dtype='object')"
      ]
     },
     "execution_count": 216,
     "metadata": {},
     "output_type": "execute_result"
    }
   ],
   "source": [
    "processed_data.columns"
   ]
  },
  {
   "cell_type": "markdown",
   "metadata": {},
   "source": [
    "# Food grouping - Sum, Mean"
   ]
  },
  {
   "cell_type": "markdown",
   "metadata": {},
   "source": [
    "Sum"
   ]
  },
  {
   "cell_type": "code",
   "execution_count": 78,
   "metadata": {},
   "outputs": [],
   "source": [
    "full_ffq = pd.read_csv(\"/home/user19/pnu_ckd/HEXA/HEXA_1/ct1_13_ffqweight.csv\")\n",
    "full_ffq = full_ffq[full_ffq['RID'].isin(tight3['RID'])]"
   ]
  },
  {
   "cell_type": "code",
   "execution_count": 79,
   "metadata": {},
   "outputs": [],
   "source": [
    "group_dict = {\n",
    "    \"Rice\" : [\"CT1_W001\", \"CT1_W011\", \"CT1_W012\"],\n",
    "    \"Other grains\" : [\"CT1_W002\", \"CT1_W003\", \"CT1_W004\", \"CT1_W005\", \"CT1_W020\"],\n",
    "    \"Noodles and dumplings\" : [\"CT1_W006\", \"CT1_W007\", \"CT1_W008\", \"CT1_W009\", \"CT1_W010\"],\n",
    "    \"Wheat flour and bread\" : [\"CT1_W013\", \"CT1_W014\", \"CT1_W016\", \"CT1_W017\", \"CT1_W018\", \"CT1_W019\", \"CT1_W021\"],\n",
    "    \"Potatoes\" : [\"CT1_W028\", \"CT1_W029\", \"CT1_W030\", \"CT1_W031\"], \n",
    "    \"Sweets\" : [\"CT1_W015\", \"CT1_W022\", \"CT1_W090\"], \n",
    "    \"Soybean pastes\" : [\"CT1_W025\"], \n",
    "    \"Bean, tofu, and soymilk\" : [\"CT1_W024\", \"CT1_W027\", \"CT1_W088\"], \n",
    "    \"Nuts\" : [\"CT1_W023\"], \n",
    "    \"Vegetables\" : [\"CT1_W037\", \"CT1_W038\", \"CT1_W039\", \"CT1_W040\", \"CT1_W041\", \"CT1_W042\", \"CT1_W043\", \"CT1_W044\", \"CT1_W045\", \"CT1_W046\", \"CT1_W049\", \"CT1_W050\",\n",
    "                  \"CT1_W051\", \"CT1_W052\", \"CT1_W053\", \"CT1_W054\", \"CT1_W055\", \"CT1_W056\"], \n",
    "    \"Kimchi\" : [\"CT1_W032\", \"CT1_W033\", \"CT1_W034\", \"CT1_W035\", \"CT1_W036\"], \n",
    "    \"Mushroom\" : [\"CT1_W047\", \"CT1_W048\"], \n",
    "    \"Fruits\" : [\"CT1_W095\", \"CT1_W096\", \"CT1_W097\", \"CT1_W098\", \"CT1_W099\", \"CT1_W100\", \"CT1_W101\", \"CT1_W102\", \"CT1_W103\", \"CT1_W104\", \"CT1_W105\", \"CT1_W106\"], \n",
    "    \"Red meat and its products\" : [\"CT1_W057\", \"CT1_W058\", \"CT1_W059\", \"CT1_W060\", \"CT1_W061\", \"CT1_W062\", \"CT1_W063\", \"CT1_W065\", \"CT1_W066\"], \n",
    "    \"White meat and its products\" : [\"CT1_W064\"], \n",
    "    \"Eggs\" : [\"CT1_W026\"], \n",
    "    \"Fish and shellfish\" : [\"CT1_W067\", \"CT1_W068\", \"CT1_W069\", \"CT1_W070\", \"CT1_W071\", \"CT1_W072\", \"CT1_W073\", \"CT1_W074\", \"CT1_W075\", \n",
    "                          \"CT1_W076\", \"CT1_W077\", \"CT1_W078\", \"CT1_W079\", \"CT1_W080\", \"CT1_W081\"], \n",
    "    \"Seaweeds\" : [\"CT1_W082\", \"CT1_W083\"], \n",
    "    \"Milk and dairy products\" : [\"CT1_W084\", \"CT1_W085\", \"CT1_W086\", \"CT1_W087\", \"CT1_W091\"], \n",
    "    \"Beverage\" : [\"CT1_W093\", \"CT1_W094\"], \n",
    "    \"Coffee and tea\" : [\"CT1_W089\", \"CT1_W092\"]\n",
    "}"
   ]
  },
  {
   "cell_type": "code",
   "execution_count": 80,
   "metadata": {},
   "outputs": [],
   "source": [
    "for group, columns in group_dict.items():\n",
    "    # df[f'{group}'] = full_ffq[columns].sum(axis=1)\n",
    "    full_ffq[f'{group}'] = full_ffq[columns].sum(axis=1)          # group sum\n",
    "    # full_ffq[f'{group}'] = full_ffq[columns].mean(axis=1)           # group mean"
   ]
  },
  {
   "cell_type": "code",
   "execution_count": 81,
   "metadata": {},
   "outputs": [],
   "source": [
    "temp_food_sum = full_ffq[['RID', 'Rice', 'Other grains',\n",
    " 'Noodles and dumplings', 'Wheat flour and bread',\n",
    " 'Potatoes', 'Sweets', 'Soybean pastes', 'Bean, tofu, and soymilk',\n",
    " 'Nuts', 'Vegetables', 'Kimchi', 'Mushroom', 'Fruits', 'Red meat and its products',\n",
    " 'White meat and its products', 'Eggs', 'Fish and shellfish', 'Seaweeds',\n",
    " 'Milk and dairy products', 'Beverage', 'Coffee and tea']]"
   ]
  },
  {
   "cell_type": "code",
   "execution_count": 82,
   "metadata": {},
   "outputs": [
    {
     "data": {
      "text/html": [
       "<div>\n",
       "<style scoped>\n",
       "    .dataframe tbody tr th:only-of-type {\n",
       "        vertical-align: middle;\n",
       "    }\n",
       "\n",
       "    .dataframe tbody tr th {\n",
       "        vertical-align: top;\n",
       "    }\n",
       "\n",
       "    .dataframe thead th {\n",
       "        text-align: right;\n",
       "    }\n",
       "</style>\n",
       "<table border=\"1\" class=\"dataframe\">\n",
       "  <thead>\n",
       "    <tr style=\"text-align: right;\">\n",
       "      <th></th>\n",
       "      <th>RID</th>\n",
       "      <th>Rice</th>\n",
       "      <th>Other grains</th>\n",
       "      <th>Noodles and dumplings</th>\n",
       "      <th>Wheat flour and bread</th>\n",
       "      <th>Potatoes</th>\n",
       "      <th>Sweets</th>\n",
       "      <th>Soybean pastes</th>\n",
       "      <th>Bean, tofu, and soymilk</th>\n",
       "      <th>Nuts</th>\n",
       "      <th>...</th>\n",
       "      <th>Mushroom</th>\n",
       "      <th>Fruits</th>\n",
       "      <th>Red meat and its products</th>\n",
       "      <th>White meat and its products</th>\n",
       "      <th>Eggs</th>\n",
       "      <th>Fish and shellfish</th>\n",
       "      <th>Seaweeds</th>\n",
       "      <th>Milk and dairy products</th>\n",
       "      <th>Beverage</th>\n",
       "      <th>Coffee and tea</th>\n",
       "    </tr>\n",
       "  </thead>\n",
       "  <tbody>\n",
       "    <tr>\n",
       "      <th>1</th>\n",
       "      <td>EPI22_027_142944</td>\n",
       "      <td>7.333333</td>\n",
       "      <td>663.333333</td>\n",
       "      <td>38.666667</td>\n",
       "      <td>1.333333</td>\n",
       "      <td>37.500000</td>\n",
       "      <td>1.538095</td>\n",
       "      <td>1.928571</td>\n",
       "      <td>12.857143</td>\n",
       "      <td>0.000000</td>\n",
       "      <td>...</td>\n",
       "      <td>12.857143</td>\n",
       "      <td>852.500000</td>\n",
       "      <td>12.500000</td>\n",
       "      <td>2.500000</td>\n",
       "      <td>10.714286</td>\n",
       "      <td>73.142857</td>\n",
       "      <td>7.000000</td>\n",
       "      <td>208.285714</td>\n",
       "      <td>32.142857</td>\n",
       "      <td>0.578571</td>\n",
       "    </tr>\n",
       "    <tr>\n",
       "      <th>13</th>\n",
       "      <td>EPI22_027_030739</td>\n",
       "      <td>2.333333</td>\n",
       "      <td>661.333333</td>\n",
       "      <td>25.833333</td>\n",
       "      <td>22.952381</td>\n",
       "      <td>23.690476</td>\n",
       "      <td>7.666667</td>\n",
       "      <td>0.750000</td>\n",
       "      <td>12.857143</td>\n",
       "      <td>0.000000</td>\n",
       "      <td>...</td>\n",
       "      <td>5.000000</td>\n",
       "      <td>426.250000</td>\n",
       "      <td>26.666667</td>\n",
       "      <td>6.250000</td>\n",
       "      <td>10.714286</td>\n",
       "      <td>62.571429</td>\n",
       "      <td>1.500000</td>\n",
       "      <td>326.000000</td>\n",
       "      <td>12.500000</td>\n",
       "      <td>4.050000</td>\n",
       "    </tr>\n",
       "    <tr>\n",
       "      <th>17</th>\n",
       "      <td>EPI22_027_175154</td>\n",
       "      <td>27.500000</td>\n",
       "      <td>660.000000</td>\n",
       "      <td>90.000000</td>\n",
       "      <td>53.571429</td>\n",
       "      <td>8.571429</td>\n",
       "      <td>3.750000</td>\n",
       "      <td>0.750000</td>\n",
       "      <td>30.000000</td>\n",
       "      <td>3.214286</td>\n",
       "      <td>...</td>\n",
       "      <td>6.428571</td>\n",
       "      <td>41.964286</td>\n",
       "      <td>67.559524</td>\n",
       "      <td>0.000000</td>\n",
       "      <td>10.714286</td>\n",
       "      <td>61.869048</td>\n",
       "      <td>3.500000</td>\n",
       "      <td>73.000000</td>\n",
       "      <td>225.000000</td>\n",
       "      <td>184.050000</td>\n",
       "    </tr>\n",
       "    <tr>\n",
       "      <th>18</th>\n",
       "      <td>EPI22_027_047976</td>\n",
       "      <td>5.833333</td>\n",
       "      <td>440.000000</td>\n",
       "      <td>136.166667</td>\n",
       "      <td>29.666667</td>\n",
       "      <td>31.916667</td>\n",
       "      <td>5.333333</td>\n",
       "      <td>4.500000</td>\n",
       "      <td>13.857143</td>\n",
       "      <td>1.250000</td>\n",
       "      <td>...</td>\n",
       "      <td>12.857143</td>\n",
       "      <td>173.541667</td>\n",
       "      <td>28.333333</td>\n",
       "      <td>6.250000</td>\n",
       "      <td>10.714286</td>\n",
       "      <td>63.595238</td>\n",
       "      <td>0.583333</td>\n",
       "      <td>204.666667</td>\n",
       "      <td>0.000000</td>\n",
       "      <td>4.050000</td>\n",
       "    </tr>\n",
       "    <tr>\n",
       "      <th>20</th>\n",
       "      <td>EPI22_027_204760</td>\n",
       "      <td>337.500000</td>\n",
       "      <td>0.000000</td>\n",
       "      <td>1.833333</td>\n",
       "      <td>15.976190</td>\n",
       "      <td>83.571429</td>\n",
       "      <td>7.500000</td>\n",
       "      <td>27.000000</td>\n",
       "      <td>68.857143</td>\n",
       "      <td>7.500000</td>\n",
       "      <td>...</td>\n",
       "      <td>11.142857</td>\n",
       "      <td>132.500000</td>\n",
       "      <td>23.333333</td>\n",
       "      <td>9.375000</td>\n",
       "      <td>10.714286</td>\n",
       "      <td>49.285714</td>\n",
       "      <td>0.500000</td>\n",
       "      <td>6.000000</td>\n",
       "      <td>48.809524</td>\n",
       "      <td>4.050000</td>\n",
       "    </tr>\n",
       "    <tr>\n",
       "      <th>...</th>\n",
       "      <td>...</td>\n",
       "      <td>...</td>\n",
       "      <td>...</td>\n",
       "      <td>...</td>\n",
       "      <td>...</td>\n",
       "      <td>...</td>\n",
       "      <td>...</td>\n",
       "      <td>...</td>\n",
       "      <td>...</td>\n",
       "      <td>...</td>\n",
       "      <td>...</td>\n",
       "      <td>...</td>\n",
       "      <td>...</td>\n",
       "      <td>...</td>\n",
       "      <td>...</td>\n",
       "      <td>...</td>\n",
       "      <td>...</td>\n",
       "      <td>...</td>\n",
       "      <td>...</td>\n",
       "      <td>...</td>\n",
       "      <td>...</td>\n",
       "    </tr>\n",
       "    <tr>\n",
       "      <th>173182</th>\n",
       "      <td>EPI22_027_193555</td>\n",
       "      <td>5.833333</td>\n",
       "      <td>445.721429</td>\n",
       "      <td>129.166667</td>\n",
       "      <td>77.226190</td>\n",
       "      <td>12.916667</td>\n",
       "      <td>9.208333</td>\n",
       "      <td>4.500000</td>\n",
       "      <td>19.714286</td>\n",
       "      <td>0.625000</td>\n",
       "      <td>...</td>\n",
       "      <td>1.750000</td>\n",
       "      <td>295.000000</td>\n",
       "      <td>82.619048</td>\n",
       "      <td>16.071429</td>\n",
       "      <td>5.357143</td>\n",
       "      <td>29.238095</td>\n",
       "      <td>0.750000</td>\n",
       "      <td>74.928571</td>\n",
       "      <td>29.166667</td>\n",
       "      <td>14.050000</td>\n",
       "    </tr>\n",
       "    <tr>\n",
       "      <th>173184</th>\n",
       "      <td>EPI22_027_031104</td>\n",
       "      <td>0.000000</td>\n",
       "      <td>660.000000</td>\n",
       "      <td>160.666667</td>\n",
       "      <td>19.333333</td>\n",
       "      <td>0.000000</td>\n",
       "      <td>15.633333</td>\n",
       "      <td>4.500000</td>\n",
       "      <td>31.000000</td>\n",
       "      <td>0.500000</td>\n",
       "      <td>...</td>\n",
       "      <td>2.500000</td>\n",
       "      <td>426.250000</td>\n",
       "      <td>25.500000</td>\n",
       "      <td>0.000000</td>\n",
       "      <td>10.714286</td>\n",
       "      <td>21.023810</td>\n",
       "      <td>0.845238</td>\n",
       "      <td>137.714286</td>\n",
       "      <td>75.000000</td>\n",
       "      <td>8.100000</td>\n",
       "    </tr>\n",
       "    <tr>\n",
       "      <th>173189</th>\n",
       "      <td>EPI22_027_048836</td>\n",
       "      <td>442.333333</td>\n",
       "      <td>0.000000</td>\n",
       "      <td>10.000000</td>\n",
       "      <td>69.095238</td>\n",
       "      <td>6.500000</td>\n",
       "      <td>11.895238</td>\n",
       "      <td>1.928571</td>\n",
       "      <td>55.714286</td>\n",
       "      <td>0.000000</td>\n",
       "      <td>...</td>\n",
       "      <td>12.857143</td>\n",
       "      <td>213.125000</td>\n",
       "      <td>108.452381</td>\n",
       "      <td>6.250000</td>\n",
       "      <td>10.714286</td>\n",
       "      <td>36.535714</td>\n",
       "      <td>2.666667</td>\n",
       "      <td>196.000000</td>\n",
       "      <td>6.666667</td>\n",
       "      <td>4.050000</td>\n",
       "    </tr>\n",
       "    <tr>\n",
       "      <th>173190</th>\n",
       "      <td>EPI22_027_123427</td>\n",
       "      <td>7.500000</td>\n",
       "      <td>660.000000</td>\n",
       "      <td>70.000000</td>\n",
       "      <td>4.166667</td>\n",
       "      <td>23.404762</td>\n",
       "      <td>15.416667</td>\n",
       "      <td>2.250000</td>\n",
       "      <td>15.857143</td>\n",
       "      <td>0.000000</td>\n",
       "      <td>...</td>\n",
       "      <td>21.428571</td>\n",
       "      <td>134.047619</td>\n",
       "      <td>8.750000</td>\n",
       "      <td>3.125000</td>\n",
       "      <td>5.357143</td>\n",
       "      <td>21.994048</td>\n",
       "      <td>2.750000</td>\n",
       "      <td>68.571429</td>\n",
       "      <td>0.000000</td>\n",
       "      <td>16.200000</td>\n",
       "    </tr>\n",
       "    <tr>\n",
       "      <th>173191</th>\n",
       "      <td>EPI22_027_022952</td>\n",
       "      <td>2.333333</td>\n",
       "      <td>440.000000</td>\n",
       "      <td>0.000000</td>\n",
       "      <td>0.000000</td>\n",
       "      <td>5.833333</td>\n",
       "      <td>0.000000</td>\n",
       "      <td>4.500000</td>\n",
       "      <td>13.857143</td>\n",
       "      <td>0.000000</td>\n",
       "      <td>...</td>\n",
       "      <td>0.000000</td>\n",
       "      <td>49.208333</td>\n",
       "      <td>40.000000</td>\n",
       "      <td>8.035714</td>\n",
       "      <td>1.666667</td>\n",
       "      <td>14.309524</td>\n",
       "      <td>0.483333</td>\n",
       "      <td>0.000000</td>\n",
       "      <td>0.000000</td>\n",
       "      <td>0.000000</td>\n",
       "    </tr>\n",
       "  </tbody>\n",
       "</table>\n",
       "<p>57231 rows × 22 columns</p>\n",
       "</div>"
      ],
      "text/plain": [
       "                     RID        Rice  Other grains  Noodles and dumplings  \\\n",
       "1       EPI22_027_142944    7.333333    663.333333              38.666667   \n",
       "13      EPI22_027_030739    2.333333    661.333333              25.833333   \n",
       "17      EPI22_027_175154   27.500000    660.000000              90.000000   \n",
       "18      EPI22_027_047976    5.833333    440.000000             136.166667   \n",
       "20      EPI22_027_204760  337.500000      0.000000               1.833333   \n",
       "...                  ...         ...           ...                    ...   \n",
       "173182  EPI22_027_193555    5.833333    445.721429             129.166667   \n",
       "173184  EPI22_027_031104    0.000000    660.000000             160.666667   \n",
       "173189  EPI22_027_048836  442.333333      0.000000              10.000000   \n",
       "173190  EPI22_027_123427    7.500000    660.000000              70.000000   \n",
       "173191  EPI22_027_022952    2.333333    440.000000               0.000000   \n",
       "\n",
       "        Wheat flour and bread   Potatoes     Sweets  Soybean pastes  \\\n",
       "1                    1.333333  37.500000   1.538095        1.928571   \n",
       "13                  22.952381  23.690476   7.666667        0.750000   \n",
       "17                  53.571429   8.571429   3.750000        0.750000   \n",
       "18                  29.666667  31.916667   5.333333        4.500000   \n",
       "20                  15.976190  83.571429   7.500000       27.000000   \n",
       "...                       ...        ...        ...             ...   \n",
       "173182              77.226190  12.916667   9.208333        4.500000   \n",
       "173184              19.333333   0.000000  15.633333        4.500000   \n",
       "173189              69.095238   6.500000  11.895238        1.928571   \n",
       "173190               4.166667  23.404762  15.416667        2.250000   \n",
       "173191               0.000000   5.833333   0.000000        4.500000   \n",
       "\n",
       "        Bean, tofu, and soymilk      Nuts  ...   Mushroom      Fruits  \\\n",
       "1                     12.857143  0.000000  ...  12.857143  852.500000   \n",
       "13                    12.857143  0.000000  ...   5.000000  426.250000   \n",
       "17                    30.000000  3.214286  ...   6.428571   41.964286   \n",
       "18                    13.857143  1.250000  ...  12.857143  173.541667   \n",
       "20                    68.857143  7.500000  ...  11.142857  132.500000   \n",
       "...                         ...       ...  ...        ...         ...   \n",
       "173182                19.714286  0.625000  ...   1.750000  295.000000   \n",
       "173184                31.000000  0.500000  ...   2.500000  426.250000   \n",
       "173189                55.714286  0.000000  ...  12.857143  213.125000   \n",
       "173190                15.857143  0.000000  ...  21.428571  134.047619   \n",
       "173191                13.857143  0.000000  ...   0.000000   49.208333   \n",
       "\n",
       "        Red meat and its products  White meat and its products       Eggs  \\\n",
       "1                       12.500000                     2.500000  10.714286   \n",
       "13                      26.666667                     6.250000  10.714286   \n",
       "17                      67.559524                     0.000000  10.714286   \n",
       "18                      28.333333                     6.250000  10.714286   \n",
       "20                      23.333333                     9.375000  10.714286   \n",
       "...                           ...                          ...        ...   \n",
       "173182                  82.619048                    16.071429   5.357143   \n",
       "173184                  25.500000                     0.000000  10.714286   \n",
       "173189                 108.452381                     6.250000  10.714286   \n",
       "173190                   8.750000                     3.125000   5.357143   \n",
       "173191                  40.000000                     8.035714   1.666667   \n",
       "\n",
       "        Fish and shellfish  Seaweeds  Milk and dairy products    Beverage  \\\n",
       "1                73.142857  7.000000               208.285714   32.142857   \n",
       "13               62.571429  1.500000               326.000000   12.500000   \n",
       "17               61.869048  3.500000                73.000000  225.000000   \n",
       "18               63.595238  0.583333               204.666667    0.000000   \n",
       "20               49.285714  0.500000                 6.000000   48.809524   \n",
       "...                    ...       ...                      ...         ...   \n",
       "173182           29.238095  0.750000                74.928571   29.166667   \n",
       "173184           21.023810  0.845238               137.714286   75.000000   \n",
       "173189           36.535714  2.666667               196.000000    6.666667   \n",
       "173190           21.994048  2.750000                68.571429    0.000000   \n",
       "173191           14.309524  0.483333                 0.000000    0.000000   \n",
       "\n",
       "        Coffee and tea  \n",
       "1             0.578571  \n",
       "13            4.050000  \n",
       "17          184.050000  \n",
       "18            4.050000  \n",
       "20            4.050000  \n",
       "...                ...  \n",
       "173182       14.050000  \n",
       "173184        8.100000  \n",
       "173189        4.050000  \n",
       "173190       16.200000  \n",
       "173191        0.000000  \n",
       "\n",
       "[57231 rows x 22 columns]"
      ]
     },
     "execution_count": 82,
     "metadata": {},
     "output_type": "execute_result"
    }
   ],
   "source": [
    "temp_food_sum"
   ]
  },
  {
   "cell_type": "markdown",
   "metadata": {},
   "source": [
    "Mean"
   ]
  },
  {
   "cell_type": "code",
   "execution_count": 83,
   "metadata": {},
   "outputs": [],
   "source": [
    "full_ffq = pd.read_csv(\"/home/user19/pnu_ckd/HEXA/HEXA_1/ct1_13_ffqweight.csv\")\n",
    "full_ffq = full_ffq[full_ffq['RID'].isin(tight3['RID'])]"
   ]
  },
  {
   "cell_type": "code",
   "execution_count": 84,
   "metadata": {},
   "outputs": [],
   "source": [
    "for group, columns in group_dict.items():\n",
    "    # df[f'{group}'] = full_ffq[columns].sum(axis=1)\n",
    "    # full_ffq[f'{group}'] = full_ffq[columns].sum(axis=1)          # group sum\n",
    "    full_ffq[f'{group}'] = full_ffq[columns].mean(axis=1)           # group mean"
   ]
  },
  {
   "cell_type": "code",
   "execution_count": 85,
   "metadata": {},
   "outputs": [
    {
     "data": {
      "text/plain": [
       "Index(['RID', 'CT1_W001', 'CT1_W002', 'CT1_W003', 'CT1_W004', 'CT1_W005',\n",
       "       'CT1_W006', 'CT1_W007', 'CT1_W008', 'CT1_W009',\n",
       "       ...\n",
       "       'Mushroom', 'Fruits', 'Red meat and its products',\n",
       "       'White meat and its products', 'Eggs', 'Fish and shellfish', 'Seaweeds',\n",
       "       'Milk and dairy products', 'Beverage', 'Coffee and tea'],\n",
       "      dtype='object', length=128)"
      ]
     },
     "execution_count": 85,
     "metadata": {},
     "output_type": "execute_result"
    }
   ],
   "source": [
    "full_ffq.columns"
   ]
  },
  {
   "cell_type": "code",
   "execution_count": 86,
   "metadata": {},
   "outputs": [],
   "source": [
    "temp_food_mean = full_ffq[['RID', 'Rice', 'Other grains',\n",
    " 'Noodles and dumplings', 'Wheat flour and bread',\n",
    " 'Potatoes', 'Sweets', 'Soybean pastes', 'Bean, tofu, and soymilk',\n",
    " 'Nuts', 'Vegetables', 'Kimchi', 'Mushroom', 'Fruits', 'Red meat and its products',\n",
    " 'White meat and its products', 'Eggs', 'Fish and shellfish', 'Seaweeds',\n",
    " 'Milk and dairy products', 'Beverage', 'Coffee and tea']]"
   ]
  },
  {
   "cell_type": "code",
   "execution_count": 87,
   "metadata": {},
   "outputs": [
    {
     "data": {
      "text/html": [
       "<div>\n",
       "<style scoped>\n",
       "    .dataframe tbody tr th:only-of-type {\n",
       "        vertical-align: middle;\n",
       "    }\n",
       "\n",
       "    .dataframe tbody tr th {\n",
       "        vertical-align: top;\n",
       "    }\n",
       "\n",
       "    .dataframe thead th {\n",
       "        text-align: right;\n",
       "    }\n",
       "</style>\n",
       "<table border=\"1\" class=\"dataframe\">\n",
       "  <thead>\n",
       "    <tr style=\"text-align: right;\">\n",
       "      <th></th>\n",
       "      <th>RID</th>\n",
       "      <th>Rice</th>\n",
       "      <th>Other grains</th>\n",
       "      <th>Noodles and dumplings</th>\n",
       "      <th>Wheat flour and bread</th>\n",
       "      <th>Potatoes</th>\n",
       "      <th>Sweets</th>\n",
       "      <th>Soybean pastes</th>\n",
       "      <th>Bean, tofu, and soymilk</th>\n",
       "      <th>Nuts</th>\n",
       "      <th>...</th>\n",
       "      <th>Mushroom</th>\n",
       "      <th>Fruits</th>\n",
       "      <th>Red meat and its products</th>\n",
       "      <th>White meat and its products</th>\n",
       "      <th>Eggs</th>\n",
       "      <th>Fish and shellfish</th>\n",
       "      <th>Seaweeds</th>\n",
       "      <th>Milk and dairy products</th>\n",
       "      <th>Beverage</th>\n",
       "      <th>Coffee and tea</th>\n",
       "    </tr>\n",
       "  </thead>\n",
       "  <tbody>\n",
       "    <tr>\n",
       "      <th>1</th>\n",
       "      <td>EPI22_027_142944</td>\n",
       "      <td>3.666667</td>\n",
       "      <td>331.666667</td>\n",
       "      <td>7.733333</td>\n",
       "      <td>0.190476</td>\n",
       "      <td>9.375000</td>\n",
       "      <td>0.512698</td>\n",
       "      <td>1.928571</td>\n",
       "      <td>4.285714</td>\n",
       "      <td>0.000000</td>\n",
       "      <td>...</td>\n",
       "      <td>6.428571</td>\n",
       "      <td>71.041667</td>\n",
       "      <td>1.388889</td>\n",
       "      <td>2.500000</td>\n",
       "      <td>10.714286</td>\n",
       "      <td>4.876190</td>\n",
       "      <td>3.500000</td>\n",
       "      <td>41.657143</td>\n",
       "      <td>16.071429</td>\n",
       "      <td>0.289286</td>\n",
       "    </tr>\n",
       "    <tr>\n",
       "      <th>13</th>\n",
       "      <td>EPI22_027_030739</td>\n",
       "      <td>1.166667</td>\n",
       "      <td>330.666667</td>\n",
       "      <td>5.166667</td>\n",
       "      <td>3.278912</td>\n",
       "      <td>5.922619</td>\n",
       "      <td>2.555556</td>\n",
       "      <td>0.750000</td>\n",
       "      <td>4.285714</td>\n",
       "      <td>0.000000</td>\n",
       "      <td>...</td>\n",
       "      <td>2.500000</td>\n",
       "      <td>35.520833</td>\n",
       "      <td>2.962963</td>\n",
       "      <td>6.250000</td>\n",
       "      <td>10.714286</td>\n",
       "      <td>4.171429</td>\n",
       "      <td>0.750000</td>\n",
       "      <td>65.200000</td>\n",
       "      <td>6.250000</td>\n",
       "      <td>2.025000</td>\n",
       "    </tr>\n",
       "    <tr>\n",
       "      <th>17</th>\n",
       "      <td>EPI22_027_175154</td>\n",
       "      <td>13.750000</td>\n",
       "      <td>330.000000</td>\n",
       "      <td>18.000000</td>\n",
       "      <td>7.653061</td>\n",
       "      <td>2.142857</td>\n",
       "      <td>1.250000</td>\n",
       "      <td>0.750000</td>\n",
       "      <td>10.000000</td>\n",
       "      <td>3.214286</td>\n",
       "      <td>...</td>\n",
       "      <td>3.214286</td>\n",
       "      <td>3.497024</td>\n",
       "      <td>7.506614</td>\n",
       "      <td>0.000000</td>\n",
       "      <td>10.714286</td>\n",
       "      <td>4.124603</td>\n",
       "      <td>1.750000</td>\n",
       "      <td>14.600000</td>\n",
       "      <td>112.500000</td>\n",
       "      <td>92.025000</td>\n",
       "    </tr>\n",
       "    <tr>\n",
       "      <th>18</th>\n",
       "      <td>EPI22_027_047976</td>\n",
       "      <td>2.916667</td>\n",
       "      <td>220.000000</td>\n",
       "      <td>27.233333</td>\n",
       "      <td>4.238095</td>\n",
       "      <td>7.979167</td>\n",
       "      <td>1.777778</td>\n",
       "      <td>4.500000</td>\n",
       "      <td>4.619048</td>\n",
       "      <td>1.250000</td>\n",
       "      <td>...</td>\n",
       "      <td>6.428571</td>\n",
       "      <td>14.461806</td>\n",
       "      <td>3.148148</td>\n",
       "      <td>6.250000</td>\n",
       "      <td>10.714286</td>\n",
       "      <td>4.239683</td>\n",
       "      <td>0.291667</td>\n",
       "      <td>40.933333</td>\n",
       "      <td>0.000000</td>\n",
       "      <td>2.025000</td>\n",
       "    </tr>\n",
       "    <tr>\n",
       "      <th>20</th>\n",
       "      <td>EPI22_027_204760</td>\n",
       "      <td>112.500000</td>\n",
       "      <td>0.000000</td>\n",
       "      <td>0.366667</td>\n",
       "      <td>2.282313</td>\n",
       "      <td>20.892857</td>\n",
       "      <td>2.500000</td>\n",
       "      <td>27.000000</td>\n",
       "      <td>22.952381</td>\n",
       "      <td>7.500000</td>\n",
       "      <td>...</td>\n",
       "      <td>5.571429</td>\n",
       "      <td>11.041667</td>\n",
       "      <td>2.592593</td>\n",
       "      <td>9.375000</td>\n",
       "      <td>10.714286</td>\n",
       "      <td>3.285714</td>\n",
       "      <td>0.250000</td>\n",
       "      <td>1.200000</td>\n",
       "      <td>24.404762</td>\n",
       "      <td>2.025000</td>\n",
       "    </tr>\n",
       "    <tr>\n",
       "      <th>...</th>\n",
       "      <td>...</td>\n",
       "      <td>...</td>\n",
       "      <td>...</td>\n",
       "      <td>...</td>\n",
       "      <td>...</td>\n",
       "      <td>...</td>\n",
       "      <td>...</td>\n",
       "      <td>...</td>\n",
       "      <td>...</td>\n",
       "      <td>...</td>\n",
       "      <td>...</td>\n",
       "      <td>...</td>\n",
       "      <td>...</td>\n",
       "      <td>...</td>\n",
       "      <td>...</td>\n",
       "      <td>...</td>\n",
       "      <td>...</td>\n",
       "      <td>...</td>\n",
       "      <td>...</td>\n",
       "      <td>...</td>\n",
       "      <td>...</td>\n",
       "    </tr>\n",
       "    <tr>\n",
       "      <th>173182</th>\n",
       "      <td>EPI22_027_193555</td>\n",
       "      <td>2.916667</td>\n",
       "      <td>222.860714</td>\n",
       "      <td>25.833333</td>\n",
       "      <td>11.032313</td>\n",
       "      <td>3.229167</td>\n",
       "      <td>3.069444</td>\n",
       "      <td>4.500000</td>\n",
       "      <td>6.571429</td>\n",
       "      <td>0.625000</td>\n",
       "      <td>...</td>\n",
       "      <td>0.875000</td>\n",
       "      <td>24.583333</td>\n",
       "      <td>9.179894</td>\n",
       "      <td>16.071429</td>\n",
       "      <td>5.357143</td>\n",
       "      <td>1.949206</td>\n",
       "      <td>0.375000</td>\n",
       "      <td>14.985714</td>\n",
       "      <td>14.583333</td>\n",
       "      <td>7.025000</td>\n",
       "    </tr>\n",
       "    <tr>\n",
       "      <th>173184</th>\n",
       "      <td>EPI22_027_031104</td>\n",
       "      <td>0.000000</td>\n",
       "      <td>330.000000</td>\n",
       "      <td>32.133333</td>\n",
       "      <td>2.761905</td>\n",
       "      <td>0.000000</td>\n",
       "      <td>5.211111</td>\n",
       "      <td>4.500000</td>\n",
       "      <td>10.333333</td>\n",
       "      <td>0.500000</td>\n",
       "      <td>...</td>\n",
       "      <td>1.250000</td>\n",
       "      <td>35.520833</td>\n",
       "      <td>2.833333</td>\n",
       "      <td>0.000000</td>\n",
       "      <td>10.714286</td>\n",
       "      <td>1.401587</td>\n",
       "      <td>0.422619</td>\n",
       "      <td>27.542857</td>\n",
       "      <td>37.500000</td>\n",
       "      <td>4.050000</td>\n",
       "    </tr>\n",
       "    <tr>\n",
       "      <th>173189</th>\n",
       "      <td>EPI22_027_048836</td>\n",
       "      <td>147.444444</td>\n",
       "      <td>0.000000</td>\n",
       "      <td>2.000000</td>\n",
       "      <td>9.870748</td>\n",
       "      <td>1.625000</td>\n",
       "      <td>3.965079</td>\n",
       "      <td>1.928571</td>\n",
       "      <td>18.571429</td>\n",
       "      <td>0.000000</td>\n",
       "      <td>...</td>\n",
       "      <td>6.428571</td>\n",
       "      <td>17.760417</td>\n",
       "      <td>12.050265</td>\n",
       "      <td>6.250000</td>\n",
       "      <td>10.714286</td>\n",
       "      <td>2.435714</td>\n",
       "      <td>1.333333</td>\n",
       "      <td>39.200000</td>\n",
       "      <td>3.333333</td>\n",
       "      <td>2.025000</td>\n",
       "    </tr>\n",
       "    <tr>\n",
       "      <th>173190</th>\n",
       "      <td>EPI22_027_123427</td>\n",
       "      <td>3.750000</td>\n",
       "      <td>330.000000</td>\n",
       "      <td>14.000000</td>\n",
       "      <td>0.595238</td>\n",
       "      <td>5.851190</td>\n",
       "      <td>5.138889</td>\n",
       "      <td>2.250000</td>\n",
       "      <td>5.285714</td>\n",
       "      <td>0.000000</td>\n",
       "      <td>...</td>\n",
       "      <td>10.714286</td>\n",
       "      <td>11.170635</td>\n",
       "      <td>0.972222</td>\n",
       "      <td>3.125000</td>\n",
       "      <td>5.357143</td>\n",
       "      <td>1.466270</td>\n",
       "      <td>1.375000</td>\n",
       "      <td>13.714286</td>\n",
       "      <td>0.000000</td>\n",
       "      <td>8.100000</td>\n",
       "    </tr>\n",
       "    <tr>\n",
       "      <th>173191</th>\n",
       "      <td>EPI22_027_022952</td>\n",
       "      <td>1.166667</td>\n",
       "      <td>220.000000</td>\n",
       "      <td>0.000000</td>\n",
       "      <td>0.000000</td>\n",
       "      <td>1.458333</td>\n",
       "      <td>0.000000</td>\n",
       "      <td>4.500000</td>\n",
       "      <td>4.619048</td>\n",
       "      <td>0.000000</td>\n",
       "      <td>...</td>\n",
       "      <td>0.000000</td>\n",
       "      <td>4.100694</td>\n",
       "      <td>4.444444</td>\n",
       "      <td>8.035714</td>\n",
       "      <td>1.666667</td>\n",
       "      <td>0.953968</td>\n",
       "      <td>0.241667</td>\n",
       "      <td>0.000000</td>\n",
       "      <td>0.000000</td>\n",
       "      <td>0.000000</td>\n",
       "    </tr>\n",
       "  </tbody>\n",
       "</table>\n",
       "<p>57231 rows × 22 columns</p>\n",
       "</div>"
      ],
      "text/plain": [
       "                     RID        Rice  Other grains  Noodles and dumplings  \\\n",
       "1       EPI22_027_142944    3.666667    331.666667               7.733333   \n",
       "13      EPI22_027_030739    1.166667    330.666667               5.166667   \n",
       "17      EPI22_027_175154   13.750000    330.000000              18.000000   \n",
       "18      EPI22_027_047976    2.916667    220.000000              27.233333   \n",
       "20      EPI22_027_204760  112.500000      0.000000               0.366667   \n",
       "...                  ...         ...           ...                    ...   \n",
       "173182  EPI22_027_193555    2.916667    222.860714              25.833333   \n",
       "173184  EPI22_027_031104    0.000000    330.000000              32.133333   \n",
       "173189  EPI22_027_048836  147.444444      0.000000               2.000000   \n",
       "173190  EPI22_027_123427    3.750000    330.000000              14.000000   \n",
       "173191  EPI22_027_022952    1.166667    220.000000               0.000000   \n",
       "\n",
       "        Wheat flour and bread   Potatoes    Sweets  Soybean pastes  \\\n",
       "1                    0.190476   9.375000  0.512698        1.928571   \n",
       "13                   3.278912   5.922619  2.555556        0.750000   \n",
       "17                   7.653061   2.142857  1.250000        0.750000   \n",
       "18                   4.238095   7.979167  1.777778        4.500000   \n",
       "20                   2.282313  20.892857  2.500000       27.000000   \n",
       "...                       ...        ...       ...             ...   \n",
       "173182              11.032313   3.229167  3.069444        4.500000   \n",
       "173184               2.761905   0.000000  5.211111        4.500000   \n",
       "173189               9.870748   1.625000  3.965079        1.928571   \n",
       "173190               0.595238   5.851190  5.138889        2.250000   \n",
       "173191               0.000000   1.458333  0.000000        4.500000   \n",
       "\n",
       "        Bean, tofu, and soymilk      Nuts  ...   Mushroom     Fruits  \\\n",
       "1                      4.285714  0.000000  ...   6.428571  71.041667   \n",
       "13                     4.285714  0.000000  ...   2.500000  35.520833   \n",
       "17                    10.000000  3.214286  ...   3.214286   3.497024   \n",
       "18                     4.619048  1.250000  ...   6.428571  14.461806   \n",
       "20                    22.952381  7.500000  ...   5.571429  11.041667   \n",
       "...                         ...       ...  ...        ...        ...   \n",
       "173182                 6.571429  0.625000  ...   0.875000  24.583333   \n",
       "173184                10.333333  0.500000  ...   1.250000  35.520833   \n",
       "173189                18.571429  0.000000  ...   6.428571  17.760417   \n",
       "173190                 5.285714  0.000000  ...  10.714286  11.170635   \n",
       "173191                 4.619048  0.000000  ...   0.000000   4.100694   \n",
       "\n",
       "        Red meat and its products  White meat and its products       Eggs  \\\n",
       "1                        1.388889                     2.500000  10.714286   \n",
       "13                       2.962963                     6.250000  10.714286   \n",
       "17                       7.506614                     0.000000  10.714286   \n",
       "18                       3.148148                     6.250000  10.714286   \n",
       "20                       2.592593                     9.375000  10.714286   \n",
       "...                           ...                          ...        ...   \n",
       "173182                   9.179894                    16.071429   5.357143   \n",
       "173184                   2.833333                     0.000000  10.714286   \n",
       "173189                  12.050265                     6.250000  10.714286   \n",
       "173190                   0.972222                     3.125000   5.357143   \n",
       "173191                   4.444444                     8.035714   1.666667   \n",
       "\n",
       "        Fish and shellfish  Seaweeds  Milk and dairy products    Beverage  \\\n",
       "1                 4.876190  3.500000                41.657143   16.071429   \n",
       "13                4.171429  0.750000                65.200000    6.250000   \n",
       "17                4.124603  1.750000                14.600000  112.500000   \n",
       "18                4.239683  0.291667                40.933333    0.000000   \n",
       "20                3.285714  0.250000                 1.200000   24.404762   \n",
       "...                    ...       ...                      ...         ...   \n",
       "173182            1.949206  0.375000                14.985714   14.583333   \n",
       "173184            1.401587  0.422619                27.542857   37.500000   \n",
       "173189            2.435714  1.333333                39.200000    3.333333   \n",
       "173190            1.466270  1.375000                13.714286    0.000000   \n",
       "173191            0.953968  0.241667                 0.000000    0.000000   \n",
       "\n",
       "        Coffee and tea  \n",
       "1             0.289286  \n",
       "13            2.025000  \n",
       "17           92.025000  \n",
       "18            2.025000  \n",
       "20            2.025000  \n",
       "...                ...  \n",
       "173182        7.025000  \n",
       "173184        4.050000  \n",
       "173189        2.025000  \n",
       "173190        8.100000  \n",
       "173191        0.000000  \n",
       "\n",
       "[57231 rows x 22 columns]"
      ]
     },
     "execution_count": 87,
     "metadata": {},
     "output_type": "execute_result"
    }
   ],
   "source": [
    "temp_food_mean"
   ]
  },
  {
   "cell_type": "markdown",
   "metadata": {},
   "source": [
    "# 최종 데이터 만들기\n",
    "\n",
    "- basic + ffqsum\n",
    "- basic + ffqmean"
   ]
  },
  {
   "cell_type": "code",
   "execution_count": 88,
   "metadata": {},
   "outputs": [
    {
     "data": {
      "text/plain": [
       "onset\n",
       "0    56706\n",
       "1      525\n",
       "Name: count, dtype: int64"
      ]
     },
     "execution_count": 88,
     "metadata": {},
     "output_type": "execute_result"
    }
   ],
   "source": [
    "temp_basic['onset'].value_counts()"
   ]
  },
  {
   "cell_type": "code",
   "execution_count": 89,
   "metadata": {},
   "outputs": [],
   "source": [
    "basic_ffqsum = pd.merge(temp_basic, temp_food_sum, on='RID', how='inner')\n",
    "basic_ffqmean = pd.merge(temp_basic, temp_food_mean, on='RID', how='inner')"
   ]
  },
  {
   "cell_type": "code",
   "execution_count": 90,
   "metadata": {},
   "outputs": [
    {
     "data": {
      "text/plain": [
       "(57231, 38)"
      ]
     },
     "execution_count": 90,
     "metadata": {},
     "output_type": "execute_result"
    }
   ],
   "source": [
    "basic_ffqsum.shape"
   ]
  },
  {
   "cell_type": "code",
   "execution_count": 91,
   "metadata": {},
   "outputs": [
    {
     "data": {
      "text/plain": [
       "(57231, 38)"
      ]
     },
     "execution_count": 91,
     "metadata": {},
     "output_type": "execute_result"
    }
   ],
   "source": [
    "basic_ffqmean.shape"
   ]
  },
  {
   "cell_type": "markdown",
   "metadata": {},
   "source": [
    "# Onset, Onset tight 지정, duration 추가"
   ]
  },
  {
   "cell_type": "code",
   "execution_count": 93,
   "metadata": {},
   "outputs": [],
   "source": [
    "temp = pd.read_csv(\"/home/user19/pnu_ckd/hexa_preprocessing_after95/data/shared_data/0904_tight.csv\")"
   ]
  },
  {
   "cell_type": "code",
   "execution_count": 94,
   "metadata": {},
   "outputs": [],
   "source": [
    "basic_ffqsum.drop(['onset'], axis=1, inplace=True)\n",
    "basic_ffqmean.drop(['onset'], axis=1, inplace=True)"
   ]
  },
  {
   "cell_type": "code",
   "execution_count": 96,
   "metadata": {},
   "outputs": [],
   "source": [
    "basic_ffqsum = pd.merge(basic_ffqsum, temp[['RID', 'onset', 'onset_tight', 'duration']], on='RID', how='inner')\n",
    "basic_ffqmean = pd.merge(basic_ffqmean, temp[['RID', 'onset', 'onset_tight', 'duration']], on='RID', how='inner')"
   ]
  },
  {
   "cell_type": "code",
   "execution_count": 97,
   "metadata": {},
   "outputs": [
    {
     "data": {
      "text/html": [
       "<div>\n",
       "<style scoped>\n",
       "    .dataframe tbody tr th:only-of-type {\n",
       "        vertical-align: middle;\n",
       "    }\n",
       "\n",
       "    .dataframe tbody tr th {\n",
       "        vertical-align: top;\n",
       "    }\n",
       "\n",
       "    .dataframe thead th {\n",
       "        text-align: right;\n",
       "    }\n",
       "</style>\n",
       "<table border=\"1\" class=\"dataframe\">\n",
       "  <thead>\n",
       "    <tr style=\"text-align: right;\">\n",
       "      <th></th>\n",
       "      <th>RID</th>\n",
       "      <th>new_SEX</th>\n",
       "      <th>new_AGE</th>\n",
       "      <th>new_eGFR</th>\n",
       "      <th>new_SBP</th>\n",
       "      <th>new_BMI</th>\n",
       "      <th>new_HB</th>\n",
       "      <th>new_ALBUMIN</th>\n",
       "      <th>new_TCHL</th>\n",
       "      <th>new_EDU</th>\n",
       "      <th>...</th>\n",
       "      <th>White meat and its products</th>\n",
       "      <th>Eggs</th>\n",
       "      <th>Fish and shellfish</th>\n",
       "      <th>Seaweeds</th>\n",
       "      <th>Milk and dairy products</th>\n",
       "      <th>Beverage</th>\n",
       "      <th>Coffee and tea</th>\n",
       "      <th>onset</th>\n",
       "      <th>onset_tight</th>\n",
       "      <th>duration</th>\n",
       "    </tr>\n",
       "  </thead>\n",
       "  <tbody>\n",
       "    <tr>\n",
       "      <th>0</th>\n",
       "      <td>EPI22_027_142944</td>\n",
       "      <td>2</td>\n",
       "      <td>43</td>\n",
       "      <td>110.752209</td>\n",
       "      <td>119.0</td>\n",
       "      <td>24.06</td>\n",
       "      <td>13.1</td>\n",
       "      <td>4.6</td>\n",
       "      <td>203</td>\n",
       "      <td>1.0</td>\n",
       "      <td>...</td>\n",
       "      <td>2.500</td>\n",
       "      <td>10.714286</td>\n",
       "      <td>73.142857</td>\n",
       "      <td>7.000000</td>\n",
       "      <td>208.285714</td>\n",
       "      <td>32.142857</td>\n",
       "      <td>0.578571</td>\n",
       "      <td>0.0</td>\n",
       "      <td>0.0</td>\n",
       "      <td>24.0</td>\n",
       "    </tr>\n",
       "    <tr>\n",
       "      <th>1</th>\n",
       "      <td>EPI22_027_030739</td>\n",
       "      <td>2</td>\n",
       "      <td>47</td>\n",
       "      <td>90.823548</td>\n",
       "      <td>110.0</td>\n",
       "      <td>21.45</td>\n",
       "      <td>13.2</td>\n",
       "      <td>4.4</td>\n",
       "      <td>176</td>\n",
       "      <td>2.0</td>\n",
       "      <td>...</td>\n",
       "      <td>6.250</td>\n",
       "      <td>10.714286</td>\n",
       "      <td>62.571429</td>\n",
       "      <td>1.500000</td>\n",
       "      <td>326.000000</td>\n",
       "      <td>12.500000</td>\n",
       "      <td>4.050000</td>\n",
       "      <td>0.0</td>\n",
       "      <td>0.0</td>\n",
       "      <td>47.0</td>\n",
       "    </tr>\n",
       "    <tr>\n",
       "      <th>2</th>\n",
       "      <td>EPI22_027_175154</td>\n",
       "      <td>2</td>\n",
       "      <td>45</td>\n",
       "      <td>79.883404</td>\n",
       "      <td>108.0</td>\n",
       "      <td>19.55</td>\n",
       "      <td>11.8</td>\n",
       "      <td>4.0</td>\n",
       "      <td>163</td>\n",
       "      <td>3.0</td>\n",
       "      <td>...</td>\n",
       "      <td>0.000</td>\n",
       "      <td>10.714286</td>\n",
       "      <td>61.869048</td>\n",
       "      <td>3.500000</td>\n",
       "      <td>73.000000</td>\n",
       "      <td>225.000000</td>\n",
       "      <td>184.050000</td>\n",
       "      <td>0.0</td>\n",
       "      <td>0.0</td>\n",
       "      <td>45.0</td>\n",
       "    </tr>\n",
       "    <tr>\n",
       "      <th>3</th>\n",
       "      <td>EPI22_027_047976</td>\n",
       "      <td>2</td>\n",
       "      <td>52</td>\n",
       "      <td>87.075094</td>\n",
       "      <td>124.5</td>\n",
       "      <td>20.85</td>\n",
       "      <td>13.0</td>\n",
       "      <td>4.8</td>\n",
       "      <td>204</td>\n",
       "      <td>2.0</td>\n",
       "      <td>...</td>\n",
       "      <td>6.250</td>\n",
       "      <td>10.714286</td>\n",
       "      <td>63.595238</td>\n",
       "      <td>0.583333</td>\n",
       "      <td>204.666667</td>\n",
       "      <td>0.000000</td>\n",
       "      <td>4.050000</td>\n",
       "      <td>0.0</td>\n",
       "      <td>0.0</td>\n",
       "      <td>56.0</td>\n",
       "    </tr>\n",
       "    <tr>\n",
       "      <th>4</th>\n",
       "      <td>EPI22_027_204760</td>\n",
       "      <td>2</td>\n",
       "      <td>50</td>\n",
       "      <td>111.591565</td>\n",
       "      <td>109.0</td>\n",
       "      <td>24.41</td>\n",
       "      <td>12.1</td>\n",
       "      <td>4.3</td>\n",
       "      <td>193</td>\n",
       "      <td>1.0</td>\n",
       "      <td>...</td>\n",
       "      <td>9.375</td>\n",
       "      <td>10.714286</td>\n",
       "      <td>49.285714</td>\n",
       "      <td>0.500000</td>\n",
       "      <td>6.000000</td>\n",
       "      <td>48.809524</td>\n",
       "      <td>4.050000</td>\n",
       "      <td>0.0</td>\n",
       "      <td>0.0</td>\n",
       "      <td>48.0</td>\n",
       "    </tr>\n",
       "    <tr>\n",
       "      <th>...</th>\n",
       "      <td>...</td>\n",
       "      <td>...</td>\n",
       "      <td>...</td>\n",
       "      <td>...</td>\n",
       "      <td>...</td>\n",
       "      <td>...</td>\n",
       "      <td>...</td>\n",
       "      <td>...</td>\n",
       "      <td>...</td>\n",
       "      <td>...</td>\n",
       "      <td>...</td>\n",
       "      <td>...</td>\n",
       "      <td>...</td>\n",
       "      <td>...</td>\n",
       "      <td>...</td>\n",
       "      <td>...</td>\n",
       "      <td>...</td>\n",
       "      <td>...</td>\n",
       "      <td>...</td>\n",
       "      <td>...</td>\n",
       "      <td>...</td>\n",
       "    </tr>\n",
       "    <tr>\n",
       "      <th>31701</th>\n",
       "      <td>EPI22_027_135315</td>\n",
       "      <td>1</td>\n",
       "      <td>52</td>\n",
       "      <td>89.750967</td>\n",
       "      <td>130.0</td>\n",
       "      <td>23.70</td>\n",
       "      <td>15.3</td>\n",
       "      <td>4.7</td>\n",
       "      <td>224</td>\n",
       "      <td>2.0</td>\n",
       "      <td>...</td>\n",
       "      <td>6.250</td>\n",
       "      <td>25.000000</td>\n",
       "      <td>10.142857</td>\n",
       "      <td>3.416667</td>\n",
       "      <td>22.666667</td>\n",
       "      <td>0.000000</td>\n",
       "      <td>8.100000</td>\n",
       "      <td>0.0</td>\n",
       "      <td>0.0</td>\n",
       "      <td>43.0</td>\n",
       "    </tr>\n",
       "    <tr>\n",
       "      <th>31702</th>\n",
       "      <td>EPI22_027_152742</td>\n",
       "      <td>2</td>\n",
       "      <td>51</td>\n",
       "      <td>100.148930</td>\n",
       "      <td>118.0</td>\n",
       "      <td>21.31</td>\n",
       "      <td>14.5</td>\n",
       "      <td>4.8</td>\n",
       "      <td>209</td>\n",
       "      <td>2.0</td>\n",
       "      <td>...</td>\n",
       "      <td>1.250</td>\n",
       "      <td>10.714286</td>\n",
       "      <td>11.630952</td>\n",
       "      <td>1.714286</td>\n",
       "      <td>125.142857</td>\n",
       "      <td>117.857143</td>\n",
       "      <td>26.292857</td>\n",
       "      <td>0.0</td>\n",
       "      <td>0.0</td>\n",
       "      <td>45.0</td>\n",
       "    </tr>\n",
       "    <tr>\n",
       "      <th>31703</th>\n",
       "      <td>EPI22_027_072439</td>\n",
       "      <td>2</td>\n",
       "      <td>59</td>\n",
       "      <td>93.777463</td>\n",
       "      <td>107.0</td>\n",
       "      <td>24.93</td>\n",
       "      <td>14.0</td>\n",
       "      <td>4.5</td>\n",
       "      <td>214</td>\n",
       "      <td>2.0</td>\n",
       "      <td>...</td>\n",
       "      <td>2.500</td>\n",
       "      <td>10.714286</td>\n",
       "      <td>22.797619</td>\n",
       "      <td>3.071429</td>\n",
       "      <td>12.000000</td>\n",
       "      <td>12.500000</td>\n",
       "      <td>33.814286</td>\n",
       "      <td>0.0</td>\n",
       "      <td>0.0</td>\n",
       "      <td>47.0</td>\n",
       "    </tr>\n",
       "    <tr>\n",
       "      <th>31704</th>\n",
       "      <td>EPI22_027_112138</td>\n",
       "      <td>2</td>\n",
       "      <td>52</td>\n",
       "      <td>98.539620</td>\n",
       "      <td>120.0</td>\n",
       "      <td>21.86</td>\n",
       "      <td>12.7</td>\n",
       "      <td>4.9</td>\n",
       "      <td>206</td>\n",
       "      <td>3.0</td>\n",
       "      <td>...</td>\n",
       "      <td>3.125</td>\n",
       "      <td>25.000000</td>\n",
       "      <td>114.500000</td>\n",
       "      <td>3.500000</td>\n",
       "      <td>137.380952</td>\n",
       "      <td>32.142857</td>\n",
       "      <td>33.814286</td>\n",
       "      <td>0.0</td>\n",
       "      <td>0.0</td>\n",
       "      <td>69.0</td>\n",
       "    </tr>\n",
       "    <tr>\n",
       "      <th>31705</th>\n",
       "      <td>EPI22_027_186974</td>\n",
       "      <td>1</td>\n",
       "      <td>58</td>\n",
       "      <td>67.585300</td>\n",
       "      <td>137.5</td>\n",
       "      <td>23.08</td>\n",
       "      <td>14.8</td>\n",
       "      <td>4.9</td>\n",
       "      <td>204</td>\n",
       "      <td>3.0</td>\n",
       "      <td>...</td>\n",
       "      <td>0.000</td>\n",
       "      <td>10.714286</td>\n",
       "      <td>26.500000</td>\n",
       "      <td>1.714286</td>\n",
       "      <td>98.904762</td>\n",
       "      <td>91.666667</td>\n",
       "      <td>10.116667</td>\n",
       "      <td>NaN</td>\n",
       "      <td>NaN</td>\n",
       "      <td>NaN</td>\n",
       "    </tr>\n",
       "  </tbody>\n",
       "</table>\n",
       "<p>31706 rows × 40 columns</p>\n",
       "</div>"
      ],
      "text/plain": [
       "                    RID  new_SEX  new_AGE    new_eGFR  new_SBP  new_BMI  \\\n",
       "0      EPI22_027_142944        2       43  110.752209    119.0    24.06   \n",
       "1      EPI22_027_030739        2       47   90.823548    110.0    21.45   \n",
       "2      EPI22_027_175154        2       45   79.883404    108.0    19.55   \n",
       "3      EPI22_027_047976        2       52   87.075094    124.5    20.85   \n",
       "4      EPI22_027_204760        2       50  111.591565    109.0    24.41   \n",
       "...                 ...      ...      ...         ...      ...      ...   \n",
       "31701  EPI22_027_135315        1       52   89.750967    130.0    23.70   \n",
       "31702  EPI22_027_152742        2       51  100.148930    118.0    21.31   \n",
       "31703  EPI22_027_072439        2       59   93.777463    107.0    24.93   \n",
       "31704  EPI22_027_112138        2       52   98.539620    120.0    21.86   \n",
       "31705  EPI22_027_186974        1       58   67.585300    137.5    23.08   \n",
       "\n",
       "       new_HB  new_ALBUMIN  new_TCHL  new_EDU  ...  \\\n",
       "0        13.1          4.6       203      1.0  ...   \n",
       "1        13.2          4.4       176      2.0  ...   \n",
       "2        11.8          4.0       163      3.0  ...   \n",
       "3        13.0          4.8       204      2.0  ...   \n",
       "4        12.1          4.3       193      1.0  ...   \n",
       "...       ...          ...       ...      ...  ...   \n",
       "31701    15.3          4.7       224      2.0  ...   \n",
       "31702    14.5          4.8       209      2.0  ...   \n",
       "31703    14.0          4.5       214      2.0  ...   \n",
       "31704    12.7          4.9       206      3.0  ...   \n",
       "31705    14.8          4.9       204      3.0  ...   \n",
       "\n",
       "       White meat and its products       Eggs  Fish and shellfish  Seaweeds  \\\n",
       "0                            2.500  10.714286           73.142857  7.000000   \n",
       "1                            6.250  10.714286           62.571429  1.500000   \n",
       "2                            0.000  10.714286           61.869048  3.500000   \n",
       "3                            6.250  10.714286           63.595238  0.583333   \n",
       "4                            9.375  10.714286           49.285714  0.500000   \n",
       "...                            ...        ...                 ...       ...   \n",
       "31701                        6.250  25.000000           10.142857  3.416667   \n",
       "31702                        1.250  10.714286           11.630952  1.714286   \n",
       "31703                        2.500  10.714286           22.797619  3.071429   \n",
       "31704                        3.125  25.000000          114.500000  3.500000   \n",
       "31705                        0.000  10.714286           26.500000  1.714286   \n",
       "\n",
       "       Milk and dairy products    Beverage  Coffee and tea  onset  \\\n",
       "0                   208.285714   32.142857        0.578571    0.0   \n",
       "1                   326.000000   12.500000        4.050000    0.0   \n",
       "2                    73.000000  225.000000      184.050000    0.0   \n",
       "3                   204.666667    0.000000        4.050000    0.0   \n",
       "4                     6.000000   48.809524        4.050000    0.0   \n",
       "...                        ...         ...             ...    ...   \n",
       "31701                22.666667    0.000000        8.100000    0.0   \n",
       "31702               125.142857  117.857143       26.292857    0.0   \n",
       "31703                12.000000   12.500000       33.814286    0.0   \n",
       "31704               137.380952   32.142857       33.814286    0.0   \n",
       "31705                98.904762   91.666667       10.116667    NaN   \n",
       "\n",
       "       onset_tight  duration  \n",
       "0              0.0      24.0  \n",
       "1              0.0      47.0  \n",
       "2              0.0      45.0  \n",
       "3              0.0      56.0  \n",
       "4              0.0      48.0  \n",
       "...            ...       ...  \n",
       "31701          0.0      43.0  \n",
       "31702          0.0      45.0  \n",
       "31703          0.0      47.0  \n",
       "31704          0.0      69.0  \n",
       "31705          NaN       NaN  \n",
       "\n",
       "[31706 rows x 40 columns]"
      ]
     },
     "execution_count": 97,
     "metadata": {},
     "output_type": "execute_result"
    }
   ],
   "source": [
    "basic_ffqsum"
   ]
  },
  {
   "cell_type": "code",
   "execution_count": 98,
   "metadata": {},
   "outputs": [],
   "source": [
    "basic_ffqsum = basic_ffqsum[['RID', 'new_SEX', 'new_AGE', 'new_eGFR', 'new_SBP', 'new_BMI', 'new_HB',\n",
    "       'new_ALBUMIN', 'new_TCHL', 'new_EDU', 'new_INCOME', 'new_DRINK',\n",
    "       'new_SMOKE', 'new_gohyeol', 'new_dangnyo', 'new_simhyeol', 'onset', 'onset_tight', 'duration', 'Rice',\n",
    "       'Other grains', 'Noodles and dumplings', 'Wheat flour and bread',\n",
    "       'Potatoes', 'Sweets', 'Soybean pastes', 'Bean, tofu, and soymilk',\n",
    "       'Nuts', 'Vegetables', 'Kimchi', 'Mushroom', 'Fruits',\n",
    "       'Red meat and its products', 'White meat and its products', 'Eggs',\n",
    "       'Fish and shellfish', 'Seaweeds', 'Milk and dairy products', 'Beverage',\n",
    "       'Coffee and tea']]\n",
    "\n",
    "basic_ffqmean = basic_ffqmean[['RID', 'new_SEX', 'new_AGE', 'new_eGFR', 'new_SBP', 'new_BMI', 'new_HB',\n",
    "       'new_ALBUMIN', 'new_TCHL', 'new_EDU', 'new_INCOME', 'new_DRINK',\n",
    "       'new_SMOKE', 'new_gohyeol', 'new_dangnyo', 'new_simhyeol', 'onset', 'onset_tight', 'duration', 'Rice',\n",
    "       'Other grains', 'Noodles and dumplings', 'Wheat flour and bread',\n",
    "       'Potatoes', 'Sweets', 'Soybean pastes', 'Bean, tofu, and soymilk',\n",
    "       'Nuts', 'Vegetables', 'Kimchi', 'Mushroom', 'Fruits',\n",
    "       'Red meat and its products', 'White meat and its products', 'Eggs',\n",
    "       'Fish and shellfish', 'Seaweeds', 'Milk and dairy products', 'Beverage',\n",
    "       'Coffee and tea']]"
   ]
  },
  {
   "cell_type": "code",
   "execution_count": 99,
   "metadata": {},
   "outputs": [],
   "source": [
    "basic_ffqsum = basic_ffqsum.rename(columns={'new_SEX': 'CT1_SEX', 'new_AGE': 'CT1_AGE', 'new_eGFR': 'CT1_eGFR', 'new_SBP': 'CT1_SBP', 'new_BMI': 'CT1_BMI'\n",
    "                        , 'new_HB': 'CT1_HB', 'new_ALBUMIN': 'CT1_ALBUMIN', 'new_TCHL': 'CT1_TCHL'\n",
    "                        , 'new_gohyeol': 'CT1_gohyeol', 'new_dangnyo': 'CT1_dangnyo', 'new_simhyeol': 'CT1_simhyeol'})\n",
    "basic_ffqmean = basic_ffqmean.rename(columns={'new_SEX': 'CT1_SEX', 'new_AGE': 'CT1_AGE', 'new_eGFR': 'CT1_eGFR', 'new_SBP': 'CT1_SBP', 'new_BMI': 'CT1_BMI'\n",
    "                        , 'new_HB': 'CT1_HB', 'new_ALBUMIN': 'CT1_ALBUMIN', 'new_TCHL': 'CT1_TCHL'\n",
    "                        , 'new_gohyeol': 'CT1_gohyeol', 'new_dangnyo': 'CT1_dangnyo', 'new_simhyeol': 'CT1_simhyeol'})"
   ]
  },
  {
   "cell_type": "code",
   "execution_count": 100,
   "metadata": {},
   "outputs": [
    {
     "data": {
      "text/plain": [
       "Index(['RID', 'CT1_SEX', 'CT1_AGE', 'CT1_eGFR', 'CT1_SBP', 'CT1_BMI', 'CT1_HB',\n",
       "       'CT1_ALBUMIN', 'CT1_TCHL', 'new_EDU', 'new_INCOME', 'new_DRINK',\n",
       "       'new_SMOKE', 'CT1_gohyeol', 'CT1_dangnyo', 'CT1_simhyeol', 'onset',\n",
       "       'onset_tight', 'duration', 'Rice', 'Other grains',\n",
       "       'Noodles and dumplings', 'Wheat flour and bread', 'Potatoes', 'Sweets',\n",
       "       'Soybean pastes', 'Bean, tofu, and soymilk', 'Nuts', 'Vegetables',\n",
       "       'Kimchi', 'Mushroom', 'Fruits', 'Red meat and its products',\n",
       "       'White meat and its products', 'Eggs', 'Fish and shellfish', 'Seaweeds',\n",
       "       'Milk and dairy products', 'Beverage', 'Coffee and tea'],\n",
       "      dtype='object')"
      ]
     },
     "execution_count": 100,
     "metadata": {},
     "output_type": "execute_result"
    }
   ],
   "source": [
    "basic_ffqmean.columns"
   ]
  },
  {
   "cell_type": "markdown",
   "metadata": {},
   "source": [
    "# To excel"
   ]
  },
  {
   "cell_type": "code",
   "execution_count": null,
   "metadata": {},
   "outputs": [],
   "source": [
    "# basic_ffqsum.to_excel(\"/home/user19/pnu_ckd/hexa_preprocessing_after95/data/shared_data/0911_ffqsum.xlsx\", index=False)\n",
    "# basic_ffqmean.to_excel(\"/home/user19/pnu_ckd/hexa_preprocessing_after95/data/shared_data/0911_ffqmean.xlsx\", index=False)"
   ]
  },
  {
   "cell_type": "code",
   "execution_count": 101,
   "metadata": {},
   "outputs": [],
   "source": [
    "a = pd.read_excel(\"/home/user19/pnu_ckd/hexa_preprocessing_after95/data/shared_data/0911_ffqsum.xlsx\")\n",
    "b = pd.read_csv(\"/home/user19/pnu_ckd/hexa_preprocessing_after95/dl_models/data/tight.csv\")"
   ]
  },
  {
   "cell_type": "code",
   "execution_count": null,
   "metadata": {},
   "outputs": [],
   "source": [
    "a[['RID', 'new_SMOKE']]"
   ]
  },
  {
   "cell_type": "code",
   "execution_count": null,
   "metadata": {},
   "outputs": [],
   "source": [
    "b[['RID', 'CT1_SMOKE']]"
   ]
  },
  {
   "cell_type": "code",
   "execution_count": null,
   "metadata": {},
   "outputs": [],
   "source": [
    "(a['new_SMOKE'] == b['CT1_SMOKE']).sum()"
   ]
  },
  {
   "cell_type": "code",
   "execution_count": null,
   "metadata": {},
   "outputs": [],
   "source": [
    "b['CT1_SMOKE'].value_counts()"
   ]
  },
  {
   "cell_type": "code",
   "execution_count": null,
   "metadata": {},
   "outputs": [],
   "source": [
    "a['new_SMOKE'].value_counts()"
   ]
  },
  {
   "cell_type": "code",
   "execution_count": null,
   "metadata": {},
   "outputs": [],
   "source": []
  }
 ],
 "metadata": {
  "kernelspec": {
   "display_name": "ckd2",
   "language": "python",
   "name": "python3"
  },
  "language_info": {
   "codemirror_mode": {
    "name": "ipython",
    "version": 3
   },
   "file_extension": ".py",
   "mimetype": "text/x-python",
   "name": "python",
   "nbconvert_exporter": "python",
   "pygments_lexer": "ipython3",
   "version": "3.8.13"
  }
 },
 "nbformat": 4,
 "nbformat_minor": 2
}
